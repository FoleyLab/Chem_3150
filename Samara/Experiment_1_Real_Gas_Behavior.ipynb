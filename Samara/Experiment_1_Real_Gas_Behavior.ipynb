{
 "cells": [
  {
   "cell_type": "markdown",
   "metadata": {},
   "source": [
    "### EXPERIMENT 1\n",
    "### Experimental Gases Behavior\n",
    "### CHEM 3150 PHYSICAL CHEMISTRY\n",
    "### WPU-CHEMISTRY DEPARTMENT\n",
    "\n",
    "**SCOPE:**\n",
    "1.\tThis experiment consists of an experimental setup to determine the PVT behavior of air.\n",
    "The experiment will introduce students to the statistical analysis of data sets. For this purpose, in this and all experiments of CHEM 3150, the results from each group will be shared and each group will statistically analyze all the data points.\n",
    "2.\tThe experiment, data cataloging, analysis, and reporting of data will be the result of group effort.  However, students will prepare their reports individually, their abstracts, introductions, data analysis, discussion, and conclusions should reflect individual effort.\n",
    "3.\tSeveral Discussion Questions (Q1, Q2, etc) are included in this document; these questions should be answered in the lab write up in the introduction and/or discussion sections, as appropriate.  You may use time in lab to talk through these questions with your peers and your professor, but you should write the answers up on your own in your final report.\n"
   ]
  },
  {
   "cell_type": "markdown",
   "metadata": {},
   "source": [
    "\n",
    "\n",
    "\n",
    "\n",
    "\n",
    "\n",
    "\n",
    "\n",
    "\n",
    "\n",
    "\n",
    "\n",
    "\n",
    "\n",
    "\n",
    "\n",
    "\n",
    "\n",
    "\n",
    "\n",
    "\n",
    "\n",
    "\n",
    "\n",
    "\n",
    "\n",
    "\n",
    "\n",
    "\n",
    "\n",
    "\n",
    "\n",
    "\n",
    "\n",
    "\n",
    "\n",
    "\n",
    "\n",
    "\n",
    "\n",
    "\n",
    "\n",
    "\n",
    "\n",
    "\n",
    "\n",
    "\n",
    "\n",
    "\n",
    "\n",
    "\n",
    "\n",
    "\n",
    "\n",
    "\n",
    "\n",
    "\n",
    "\n",
    "\n",
    "\n",
    "\n",
    "\n",
    "\n",
    "\n",
    "\n",
    "\n",
    "\n",
    "\n",
    "\n",
    "\n",
    "\n",
    "\n",
    "\n",
    "\n",
    "\n",
    "\n",
    "\n",
    "\n",
    "\n",
    "\n",
    "\n",
    "\n",
    "\n",
    "\n",
    "**SAFETY:** USE GOGGLES AT ALL THE TIME WHILE WORKING IN THE LAB\n",
    "\n",
    "**BACKGROUND:**\n",
    "\n",
    "Gases can be described with a good deal of accuracy by the kinetic model based on statistical mechanics and the Boltzmann probability distribution.  The Boltzmann probability distribution relates the probability of a system at equilibrium with temperature $T$ being in a state $j$ with energy $E_j$ as follows: \n",
    "\n",
    "$$ P_j \\propto e^{\\frac{-E_j}{k_B T}} $$\n",
    "\n",
    "where $k_B$ is Boltzmann’s constant.\n",
    "\n",
    "**Question 1:** What are the dimensions of Boltzmann’s constant? \n",
    "\n",
    "[M^1L^2T^-2K^_1]\n",
    "\n",
    "**Question 2:**  What is the value of Boltzmann’s constant in SI units?\n",
    "\n",
    "1.380649 * 10^-23 J/K\n",
    "\n",
    "Under this assumption, the distribution of kinetic energy follows the Maxwell-Boltzman’s distribution of velocities.\n",
    "Implicit in such model are the following assumptions:\n",
    "- There are no intermolecular forces between the gas molecules.\n",
    "- The gas molecules collisions are random and elastic\n",
    "- There are no internal molecular degrees of freedom (i.e. no vibrations or rotations); only translational degrees of freedom are present.  \n"
   ]
  },
  {
   "cell_type": "markdown",
   "metadata": {},
   "source": [
    "**Question 3:**  How can you specify a state for 100 ideal gas particles?  How can you assign an internal energy $U$ to that particular state?\n",
    " \n",
    "A state for ideal gas particles is one in which all collisions between atoms and molecules are perfectly elastic and there are no intermolecular forces. Atoms and molecules do not describe or allow phase transitions but its  product of pressure and volume which equals temperature. Internal energy can be assigned because it stands for specific energy per mass of system. \n",
    "$$ k_{tot} = \\sum_{i=1}^{100} \\frac{1}{2}m_i_v_i^2\n",
    "\n",
    "Under this assumption the state equation for an ideal gas is as follows:\n",
    "\n",
    "$$ P V = n R T $$\n",
    "Where: $n$ is the number of moles and $R$ is a proportionality constant, which is found to be the same for any gas.\n",
    "\n",
    "**Question 4:** What are the dimensions of $R$?\n",
    "\n",
    "R=M^2 L^2 T^-2, e/n theta\n",
    "\n",
    "**Question 5:** What is the value of $R$ in SI units?\n",
    "\n",
    "R= 8.314 J/mol*K\n",
    "\n",
    "The ideal gas equation is the state equation of the gas system in the sense that instead of solving the discrete Newton’s equations for each molecule we describe the behavior of the system as a function of state variables $P,V,n,$ and $T$.\n",
    "\n",
    "**Question 6:** Why can we do such “globalization” and when it will fail?\n",
    "\n",
    "We can do such globiliazation because it is based on initial, pressure, voloume, and temperature. It will fail in its final state because it comsumes\n",
    "Pressure is the amount of area transfered to wall.\n",
    "\n",
    "**Question 7:** What happens if the system is not in equilibrium?\n",
    "\n",
    "If the sytstem is not in equilbrium it will determine and go in direction of the reaction. \n",
    "\n",
    "Of course, real gases can only be approximately described by the ideal gas law, and the approximation tends to work well when experiments are performed under suitable conditions.  In particular, the ideal gas law tends to work well when the pressure of the gas is low, and temperatures are above vaporization temperature. Nevertheless, provided these conditions are satisfied, most gases do conform quite well to the ideal gas equation with about the same proportionality constant for each.\n",
    "\n",
    "One measure of how well a real gas behaves as ideal gas is to measure $P, V,$ and $T,$ and see how close $\\frac{RT}{PV}$ is to 1. The quantity $\\frac{RT}{PV}$ is known as the compression factor, and is often given the symbol $Z$. \n",
    "For most real gases at very high pressures (a few hundred atmospheres), it is found in fact that $Z$ is rather greater than 1. As the pressure is lowered, $Z$ decreases and becomes slightly less than 1. Then at yet lower pressures $Z$ rises again. The exact shape of the $Z$ vs. $P$ curve is different from gas to gas, as is the pressure at which $Z$ is a minimum. Yet, for all gases, as the pressure approaches zero, $\\frac{PV}{nT}$ approaches $R$ exactly.\n",
    "Another way to look at how closely real gases obey the ideal gas equation is to plot $P$ vs. $V$ for a number of different temperatures. That is, we draw a set of isotherms. For an ideal gas, these isotherms, $PV = \\; constant$, are rectangular hyperbolas. So they are for real gases at high temperatures. At lower temperatures, departures from the ideal gas equation are marked. Typical isotherms are sketched in Figure 1. "
   ]
  },
  {
   "cell_type": "markdown",
   "metadata": {},
   "source": [
    "<img src=\"Figure_1.png\" width=300 height=300 />\n",
    "<figcaption align = \"center\"><b>Figure 1:</b> Representative isotherm of a real gas.</figcaption> "
   ]
  },
  {
   "cell_type": "markdown",
   "metadata": {},
   "source": [
    "In the PV plane of Figure 1, you will see several areas marked \"gas\", \"liquid\", \"vapour\", \"liquid + vapour\" (State diagram for the compound). You can follow the behavior at a given temperature by starting at the right-hand end of each isotherm, and gradually moving to the left – i.e. increase the pressure and decrease the volume. The high temperature isotherm is nearly hyperboloidal (ideal gas behavior). Nothing special happens beyond the volume decreasing as the pressure is increased, according to Boyle's law. \n",
    "At slightly lower temperatures, a kink develops in the isotherm, and at the critical temperature (marked CI on the graph)  the $P$ vs $V$ curve shows a local horizontal inflection point. The isotherm for the critical temperature is the critical isotherm. Still nothing special happens other than $V$ decreasing as $P$ is increased, though not now according to Boyle's law.\n",
    "For temperatures below the critical temperature, we refer to the gas as a vapour. As you decrease the volume, the pressure gradually increases until you reach the dashed curve. At this point, some of the vapour liquefies, and, as you continue to decrease the volume, more and more of the vapour liquefies, the pressure remaining constant while it does so. That is the horizontal portion of the isotherm. In that region (i.e. outlined by the dashed curve) we have liquid and vapour in equilibrium. Near the right-hand end of the horizontal portion, there is just a small amount of liquid; at the left-hand end, most of the substance is liquid, with only a small amount of vapour left.\n",
    "After it is all liquid, further increase of pressure barely decreases the volume, this is because liquids have a very small compressibility. The isotherm is then almost vertical.\n",
    "The temperature of the critical isotherm is the critical temperature. The pressure and molar volume at the horizontal inflection point of the critical isotherm are the critical pressure and critical molar volume. The horizontal inflection point is the critical point.\n",
    "\n",
    "**Van der Waals and Other Gases**\n",
    "We have seen that real gases resemble an ideal gas only at low pressures and high temperatures.\n",
    "Various attempts have been made to find an equation that adequately represents the relation between $P, V$ and $T$ for a real gas – i.e. to find an Equation of State for a real gas. Some of these attempts have been purely empirical attempts to fit a mathematical formula to real data. Others are the result of at least an attempt to describe some physical model that would explain the behavior of real gases. A sample of some of the simpler equations that have been proposed follows:\n"
   ]
  },
  {
   "cell_type": "markdown",
   "metadata": {},
   "source": [
    "<img src=\"Figure_2.png\" width=700 />\n",
    "<figcaption align = \"center\"><b>Figure 2:</b> Different real gas equations.  *In Clausius’s equation, if we choose c=3b, we get a good agreement between the critical compression factor of a Clausius gas and many real gases.\n",
    "In the virial equation in general the coefficients A, B, C… are functions of temperature</figcaption> \n"
   ]
  },
  {
   "cell_type": "markdown",
   "metadata": {},
   "source": [
    "**MATERIALS AND EQUIPMENT:**\n",
    "\n",
    " a. Graduated cylinders with capacities of 100.0 mL to 250 mL as appropriate to fit into the water bath as shown in Figure 3. \n",
    "  \n",
    " b. Water glass tank corresponding to the specific set of graduated cylinders assigned to the group\n",
    "  \n",
    " c. Heater-Circulator pump\n",
    "  \n",
    " d. Thermometer\n",
    "  \n",
    " e. Stand\n",
    " \n",
    " f. Thermometer clamp\n",
    " \n",
    " g. Set of weights (Ballast)\n",
    " \n",
    " h. Rubber bands\n",
    " \n"
   ]
  },
  {
   "cell_type": "markdown",
   "metadata": {},
   "source": [
    "**Experimental Setup:**\n",
    "\n",
    "In this experimental part each group will use inverted graduated cylinders partially filled with an air bubble and submerged in a water bath as shown in Figure 3.\n",
    "Each cylinder is kept from tipping up by stainless steel weighs/rods held at the graduate cylinder dispensing end by rubber bands.\n",
    "The water bath tank is from glass so you can read and track the behavior of the air bubble from outside the tank as the temperature in the water bath changes.\n",
    "The location of the graduate cylinders should be such to avoid drifting inside the tank due to the circulation generated by the heater-circulator device (optional, manual stirring is also possible).\n"
   ]
  },
  {
   "cell_type": "markdown",
   "metadata": {},
   "source": [
    "<img src=\"Figure_3.png\" width=600 />\n",
    "<figcaption align = \"center\"><b>Figure 3:</b> Experimental setup.</figcaption> "
   ]
  },
  {
   "cell_type": "markdown",
   "metadata": {},
   "source": [
    "\n",
    "<img src=\"Figure_4.jpg\" width=400 />\n",
    "<figcaption align = \"center\"><b>Figure 4:</b> Example 50 mL graduated cylinder assembly. </figcaption> \n",
    "\n",
    "**Setup of Experiment:**\n",
    "After the system is set up and you have read and understood the procedure and goals of the experiment proceed with the experimental part below.\n",
    "1.\tConfirm the water tanks are filled with water at the desired initial temperature (if hot at first, you will be cooling the water with ice throughout the experiment, if cold at first, you will be heating the water throughout the experiment)\n",
    "2.\tPlace two rubber bands over the graduated cylinder end, separated by approximately 4 cm. These are to avoid the weighs slip and to protect the glass from steel sharp points.\n",
    "3.\tHolding the two or three ballast SS bars against the outside of the graduate cylinder (on the area where the previous rubber bands are located), secure the bars with two additional rubber bands to hold the SS bars against the graduate cylinder (See Figure 3).\n",
    "4.\tFill each graduated cylinders with water up to about 2/3 of its capacity (See Table 1 for approximate values) Introduce each cylinder inverted into the water tank (See Figure 1) by closing the front with your hand or a rubber stopper. Do not remove your hand or stopper until the end of the graduate cylinder is submerged in the tank’s water. Failing to do so will cause the graduate cylinder to empty and you will have to start over.\n",
    "5.\tOnce all three cylinders are set, we will collect data for five different temperatures from hot to cold as follows:\n",
    "6.\tEmpty the water tank (e.g. by syphoning) until the water level is close to the graduated cylinders end; refill the tanks with very hot water from the faucet.\n",
    "7.\tSet up the thermometer so that the tip is close to the area where the graduated cylinders are located.\n",
    "8.\tBe sure that the graduated cylinders are oriented such that you can read the bubble air volume from outside the water tank.\n",
    "9.\tOnce the temperature of the bath is stable, wait at least 1 minute, record the $T_{bath}$ (in C), water column height ($H_{wc}$),  and $V_{bubble}$ (in mL) of the air bubbles in each graduated cylinder\n",
    "10.\tRepeat *2* to *4* by siphoning hot water out  and adding cold water.\n",
    "11.\tAfter the temperature in the tank is about 30-40$^{\\circ}$ C, remove water (e.g. by syphoning) and add ice to cool the setup below room temperature.  Collect two more data points, with the final data point at $T\\approx 0^{\\circ}$C (ice bath conditions).\n",
    "\n",
    "\n",
    "<img src=\"table.png\" width=400 />\n",
    "<figcaption align = \"center\"><b>Figure 5:</b> Target bubble volumes for each trial by cylinder size. </figcaption> "
   ]
  },
  {
   "cell_type": "markdown",
   "metadata": {},
   "source": [
    "**Recording data**\n",
    "Each group will record the following parameters:\n",
    "\n",
    "1.\tTemperature of the bath\n",
    "2.\tVolume of the air bubble, \n",
    "3.\tHeight form the bottom of the bubble to the surface of the water (column of water)\n"
   ]
  },
  {
   "cell_type": "code",
   "execution_count": 1,
   "metadata": {},
   "outputs": [],
   "source": [
    "import numpy as np\n",
    "# pressure in the room in torr (as measured by barometer on 9/29/21)\n",
    "P_air = 751\n",
    "P_air_SI= P_air * 133.3\n",
    "\n",
    "# trial 1 for team 1\n",
    "# in celcius\n",
    "team_1_T_1 = np.array([71,50, 40, 34, 20, 10, 1.5])\n",
    "team_1_T_1_SI = team_1_T_1 + 273.15\n",
    "# in mL\n",
    "team_1_V_1 = np.array([240, 181, 160, 150, 140, 134,130])\n",
    "team_1_V_1_SI = team_1_V_1 * 1e-6\n",
    "# in \n",
    "team_1_H_1 = np.array([27, 22, 21, 18, 21,17, 17 ])\n",
    "team_1_H_1_SI = team_1_H_1 * 25.4 / 13.6 * 133.3\n",
    "\n",
    "# trial 2 for team 1\n",
    "team_1_T_2 = np.array([39, 30, 22])\n",
    "team_1_T_2_SI = team_1_T_2 + 273.15\n",
    "\n",
    "team_1_V_2 = np.array([86,89, 87])\n",
    "team_1_V_2_SI = team_1_V_2 * 1e-6\n",
    "\n",
    "team_1_H_2 = np.array([13, 11, 12])\n",
    "team_1_H_2_SI = team_1_H_2 * 25.4 / 13.6 * 133.3\n",
    "\n",
    "\n",
    "# trial 1 for team 2\n",
    "# temperature in C\n",
    "team_2_T_1 = np.array([64.4, 53, 43, 34, 25, 15, 10.3])\n",
    "team_2_T_1_SI = team_2_T_1 + 273.15\n",
    "# volume in mL\n",
    "team_2_V_1 = np.array([79, 74, 65, 61, 58, 55, 53])\n",
    "team_2_V_1_SI = team_2_V_1 * 1e-6\n",
    "# height in inches\n",
    "team_2_H_1 = np.array([6.5, 6.5, 6.6, 4.8, 4.4, 5, 5.5])\n",
    "team_2_H_1_SI = team_2_H_1 * 25.4 / 13.6 * 133.3\n",
    "\n",
    "# trial 2 for team 2\n",
    "team_2_T_2 = np.array([32, 28, 24, 20, 14, 9.5, 2])\n",
    "# this converts the temperature to K, the SI unit of temperature\n",
    "team_2_T_2_SI = team_2_T_2 + 273.15\n",
    "\n",
    "team_2_V_2 = np.array([49, 48, 46, 45, 43, 42.5, 42])\n",
    "# this converts the volume to m^3, the SI unit of volume\n",
    "team_2_V_2_SI = team_2_V_2 * 1e-6\n",
    "\n",
    "team_2_H_2 = np.array([4.1, 4.3, 4.5, 3.6, 3, 2.5, 1.4])\n",
    "# this converts the pressure to Pa, the SI unit of pressure\n",
    "team_2_H_2_SI = team_2_H_2 * 25.4 / 13.6 * 133.3\n",
    "\n"
   ]
  },
  {
   "cell_type": "markdown",
   "metadata": {},
   "source": [
    "**Calculations**\n",
    "1.\tTo have a better statistical analysis all groups will analyze all the data.\n",
    "2.\tCalculate the contribution of water vapor in the air bubble by using the water vapor pressure at each temperature measured from the Table provided.  \n",
    "You may need to use a fitting or interpolation to obtain the values at the temperature you measured. \n",
    "3.\tUse Dalton’s Partial Pressure Law at the lowest temperature recorded and the vapor pressure of water from literature to estimate the mols of air in the bubble.\n",
    "\n",
    "$$ P_{total} = P_{atmosphere} + P_{column height} = P_{water vapor} + P_{air} $$\n",
    "\n",
    "4.\tCalculated, at each temperature measured:\n",
    "\n",
    "$$ P_{air} = P_{total} - P_{water vapor} $$\n",
    "\n",
    "Remember the water pressure of the water vapor is from literature tables.\n",
    "\n",
    "5.\tCalculate at each temperature \n",
    "\n",
    "$$ Z_{air} = \\frac{n_{air} R T_{air}}{P_{air} V_{air}} $$\n",
    "\n",
    "6.\tPlot Zair vs Tair\n",
    "7.\tUse the raw data from other groups and perform same calculations.\n",
    "8.\tScatter Plot $Z_{air}$ vs $T_{air}$ for all set the data provided.  You may fit the scatter plot by a curve that better represent the trends\n",
    "9.\tDiscuss the results.\n",
    "\n",
    "The experiment may be performed in group and you can discuss your results with the group and other students. However, it is expected that you write your own interpretation and conclusions.\n",
    "\n",
    "**Question 8:** Is it the water vapor the only correction we need to take in account? Think about the system and the surroundings what else may interact and introduce uncertainty\n",
    "\n",
    "Water vapor is not only the correction needed to be accounted for. Due to the matter of atmospheric pressure in the room.\n",
    "\n",
    "**Question 9:** Why is it better to estimate the moles of air at the lowest temperature and not at the highest one? \n",
    "\n",
    "It is better to estimate moles of air att the lowesr temperature because water vapors are easier to measure in colder temperature vs higher temperature. The hotter the temperature, more water vapors will be produced.\n"
   ]
  },
  {
   "cell_type": "markdown",
   "metadata": {},
   "source": [
    "<img src=\"Vapor_Pressure.png\" width=600 />\n",
    "<figcaption align = \"center\"><b>Figure 6:</b> Vapor Pressure of water vs Temperature </figcaption> "
   ]
  },
  {
   "cell_type": "code",
   "execution_count": 2,
   "metadata": {},
   "outputs": [
    {
     "data": {
      "text/plain": [
       "<Figure size 640x480 with 1 Axes>"
      ]
     },
     "metadata": {},
     "output_type": "display_data"
    }
   ],
   "source": [
    "from scipy.interpolate import UnivariateSpline\n",
    "from matplotlib import pyplot as plt \n",
    "\n",
    "T_water = np.array([0, 12.5, 19.0, 22.0, 25.0, 30.0, 35.0, 50.0, 70.0, 90.0, 100])\n",
    "T_water_SI = T_water + 273.15\n",
    "\n",
    "P_water = np.array([4.6, 10.9, 16.5, 19.8, 23.8, 31.8, 42.2, 92.5, 233.7, 525.8, 760.0])\n",
    "P_water_SI = P_water * 133.3\n",
    "\n",
    "P_water_spline = UnivariateSpline(T_water_SI, P_water_SI, k=3)\n",
    "\n",
    "plt.plot(T_water_SI, P_water_SI, 'o')\n",
    "plt.plot(T_water_SI, P_water_spline(T_water_SI), 'red')\n",
    "plt.show()"
   ]
  },
  {
   "cell_type": "code",
   "execution_count": 4,
   "metadata": {
    "scrolled": true
   },
   "outputs": [
    {
     "name": "stdout",
     "output_type": "stream",
     "text": [
      "0.005901351613549771\n",
      "0.003561508863939339\n",
      "0.0022539776742923007\n",
      "0.0018313626354806607\n",
      "[6721.84852941 5477.06176471 5228.10441176 4481.23235294 5228.10441176\n",
      " 4232.275      4232.275     ]\n",
      "100108.3\n"
     ]
    },
    {
     "data": {
      "image/png": "[encoded data removed]",
      "text/plain": [
       "<Figure size 432x288 with 1 Axes>"
      ]
     },
     "metadata": {
      "needs_background": "light"
     },
     "output_type": "display_data"
    },
    {
     "data": {
      "image/png": "[encoded data removed]",
      "text/plain": [
       "<Figure size 432x288 with 1 Axes>"
      ]
     },
     "metadata": {
      "needs_background": "light"
     },
     "output_type": "display_data"
    }
   ],
   "source": [
    "# P_air = P_watercolumn (T) + P_atmosphere - P_watervapor (T)\n",
    "P_air_team_1_trial_1_SI = team_1_H_1_SI + P_air_SI - P_water_spline(team_1_T_1_SI)\n",
    "P_air_team_1_trial_2_SI = team_1_H_2_SI + P_air_SI - P_water_spline(team_1_T_2_SI)\n",
    "P_air_team_2_trial_1_SI = team_2_H_1_SI + P_air_SI - P_water_spline(team_2_T_1_SI)\n",
    "P_air_team_2_trial_2_SI = team_2_H_2_SI + P_air_SI - P_water_spline(team_2_T_2_SI)\n",
    "\n",
    "\n",
    "\n",
    "n_t_1_t_1 = P_air_team_1_trial_1_SI[6] * team_1_V_1_SI[6] / (8.314 * team_1_T_1_SI[6])\n",
    "\n",
    "n_t_1_t_2 = P_air_team_1_trial_2_SI[2] * team_1_V_2_SI[2] / (8.314 * team_1_T_2_SI[2])\n",
    "\n",
    "n_t_2_t_1 = P_air_team_2_trial_1_SI[6] * team_2_V_1_SI[6] / (8.314 * team_2_T_1_SI[6])\n",
    "\n",
    "n_t_2_t_2 = P_air_team_2_trial_2_SI[6] * team_2_V_2_SI[6] / (8.314 * team_2_T_2_SI[6])\n",
    "\n",
    "\n",
    "print(n_t_1_t_1)\n",
    "print(n_t_1_t_2)\n",
    "print(n_t_2_t_1)\n",
    "print(n_t_2_t_2)\n",
    "\n",
    "print(team_1_H_1_SI)\n",
    "print(P_air_SI)\n",
    "\n",
    "Z_t_1_t_1 = n_t_1_t_1 * 8.314 * team_1_T_1_SI / (P_air_team_1_trial_1_SI * team_1_V_1_SI)\n",
    "\n",
    "Z_t_1_t_2 = n_t_1_t_2 * 8.314 * team_1_T_2_SI / (P_air_team_1_trial_2_SI * team_1_V_2_SI)\n",
    "\n",
    "Z_t_2_t_1 = n_t_2_t_1 * 8.314 * team_2_T_1_SI / (P_air_team_2_trial_1_SI * team_2_V_1_SI)\n",
    "\n",
    "Z_t_2_t_2 = n_t_2_t_2 * 8.314 * team_2_T_2_SI / (P_air_team_2_trial_2_SI * team_2_V_2_SI)\n",
    "\n",
    "plt.plot(team_1_T_1_SI, Z_t_1_t_1, label=\"team 1 trial 1\")\n",
    "plt.plot(team_1_T_2_SI, Z_t_1_t_2, label=\"team 1 trial 2\")\n",
    "plt.plot(team_2_T_1_SI, Z_t_2_t_1, label=\"team 2 trial 1\")\n",
    "plt.plot(team_2_T_2_SI, Z_t_2_t_2, label=\"team 2 trial 2\")\n",
    "plt.legend()\n",
    "plt.show()\n",
    "\n",
    "plt.plot(team_1_V_1_SI, P_air_team_1_trial_1_SI, label=\"team 1 trial 1\")\n",
    "plt.plot(team_1_V_1_SI, n_t_1_t_1 * 8.314 * team_1_T_1_SI / team_1_V_1_SI, 'o', label = \"team 1 trial 1\")\n",
    "plt.plot(team_1_V_2_SI, P_air_team_1_trial_2_SI, label=\"team 1 trial 2\")\n",
    "plt.plot(team_1_V_2_SI, n_t_1_t_2 * 8.314 * team_1_T_2_SI / team_1_V_2_SI, 'o', label = \"team 1 trial 2\")\n",
    "plt.plot(team_2_V_1_SI, P_air_team_2_trial_1_SI, label=\"team 2 trial 1\")\n",
    "plt.plot(team_2_V_1_SI, n_t_2_t_1 * 8.314 * team_2_T_1_SI / team_2_V_1_SI, 'o', label = \"team 2 trial 1\")\n",
    "plt.plot(team_2_V_2_SI, P_air_team_2_trial_2_SI, label=\"team 2 trial 2\")\n",
    "plt.plot(team_2_V_2_SI, n_t_2_t_2 * 8.314 * team_2_T_2_SI / team_2_V_2_SI, 'o', label = \"team 2 trial 2\")\n",
    "plt.legend()\n",
    "plt.show()"
   ]
  },
  {
   "cell_type": "code",
   "execution_count": null,
   "metadata": {},
   "outputs": [],
   "source": []
  },
  {
   "cell_type": "code",
   "execution_count": null,
   "metadata": {},
   "outputs": [],
   "source": []
  }
 ],
 "metadata": {
  "kernelspec": {
   "display_name": "Python 3",
   "language": "python",
   "name": "python3"
  },
  "language_info": {
   "codemirror_mode": {
    "name": "ipython",
    "version": 3
   },
   "file_extension": ".py",
   "mimetype": "text/x-python",
   "name": "python",
   "nbconvert_exporter": "python",
   "pygments_lexer": "ipython3",
   "version": "3.7.1"
  }
 },
 "nbformat": 4,
 "nbformat_minor": 4
}
