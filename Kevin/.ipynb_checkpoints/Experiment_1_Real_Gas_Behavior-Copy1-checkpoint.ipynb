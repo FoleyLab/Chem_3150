{
 "cells": [
  {
   "cell_type": "markdown",
   "metadata": {},
   "source": [
    "### EXPERIMENT 1\n",
    "### Experimental Gases Behavior\n",
    "### CHEM 3150 PHYSICAL CHEMISTRY\n",
    "### WPU-CHEMISTRY DEPARTMENT\n",
    "\n",
    "**SCOPE:**\n",
    "1.\tThis experiment consists of an experimental setup to determine the PVT behavior of air.\n",
    "The experiment will introduce students to the statistical analysis of data sets. For this purpose, in this and all experiments of CHEM 3150, the results from each group will be shared and each group will statistically analyze all the data points.\n",
    "2.\tThe experiment, data cataloging, analysis, and reporting of data will be the result of group effort.  However, students will prepare their reports individually, their abstracts, introductions, data analysis, discussion, and conclusions should reflect individual effort.\n",
    "3.\tSeveral Discussion Questions (Q1, Q2, etc) are included in this document; these questions should be answered in the lab write up in the introduction and/or discussion sections, as appropriate.  You may use time in lab to talk through these questions with your peers and your professor, but you should write the answers up on your own in your final report.\n"
   ]
  },
  {
   "cell_type": "markdown",
   "metadata": {},
   "source": [
    "\n",
    "\n",
    "\n",
    "\n",
    "\n",
    "\n",
    "\n",
    "\n",
    "\n",
    "\n",
    "\n",
    "\n",
    "\n",
    "\n",
    "\n",
    "\n",
    "\n",
    "\n",
    "\n",
    "\n",
    "\n",
    "\n",
    "\n",
    "\n",
    "\n",
    "\n",
    "\n",
    "\n",
    "\n",
    "\n",
    "\n",
    "\n",
    "\n",
    "\n",
    "\n",
    "\n",
    "\n",
    "\n",
    "\n",
    "\n",
    "\n",
    "\n",
    "\n",
    "\n",
    "\n",
    "\n",
    "\n",
    "\n",
    "\n",
    "\n",
    "\n",
    "\n",
    "\n",
    "\n",
    "\n",
    "\n",
    "\n",
    "\n",
    "\n",
    "\n",
    "\n",
    "\n",
    "\n",
    "\n",
    "\n",
    "\n",
    "\n",
    "\n",
    "\n",
    "\n",
    "\n",
    "\n",
    "\n",
    "\n",
    "\n",
    "\n",
    "\n",
    "\n",
    "\n",
    "\n",
    "\n",
    "\n",
    "\n",
    "\n",
    "**SAFETY:** USE GOGGLES AT ALL THE TIME WHILE WORKING IN THE LAB\n",
    "\n",
    "**BACKGROUND:**\n",
    "\n",
    "Gases can be described with a good deal of accuracy by the kinetic model based on statistical mechanics and the Boltzmann probability distribution.  The Boltzmann probability distribution relates the probability of a system at equilibrium with temperature $T$ being in a state $j$ with energy $E_j$ as follows: \n",
    "\n",
    "$$ P_j \\propto e^{\\frac{-E_j}{k_B T}} $$\n",
    "\n",
    "where $k_B$ is Boltzmann’s constant.\n",
    "\n",
    "**Question 1:** What are the dimensions of Boltzmann’s constant?  \n",

    "**Answer 1:** M^2*L^2*T^-2*K^-1\n",
    "\n",
    "**Question 2:**  What is the value of Boltzmann’s constant in SI units? \n",
    "**Answer 2**1.380649 x 10^-23 J/K\n",

    "\n",
    "\n",
    "**Question 2:**  What is the value of Boltzmann’s constant in SI units? \n",

    "\n",
    "Under this assumption, the distribution of kinetic energy follows the Maxwell-Boltzman’s distribution of velocities.\n",
    "Implicit in such model are the following assumptions:\n",
    "- There are no intermolecular forces between the gas molecules.\n",
    "- The gas molecules collisions are random and elastic\n",
    "- There are no internal molecular degrees of freedom (i.e. no vibrations or rotations); only translational degrees of freedom are present.  \n"
   ]
  },
  {
   "cell_type": "markdown",
   "metadata": {},
   "source": [
    "**Question 3:**  How can you specify a state for 100 ideal gas particles?  How can you assign an internal energy $U$ to that particular state?\n",

    " **Answer 3** We can specify the state for 100 ideal gas particles by pressure, volume, and temperature. Although 200 ideal gas particles are not alot of gas particles, determining the momentum and position of those particles is alot to do. It is better to determinine the pressure temperature and volume of the ideal gas particles. We can assign an internal energy $U$ to that state by using the formula below. This will get the sum of each energy of ideal gas and sum the gas particle energies upwe can do this because in an ideal gas, the particles do not collide\n",
    " $$ k_{tot} = \\sum_(i=1)^(100) \\frac{1}{2}m_i v_i^2$$\n",

    " \n",

    "Under this assumption the state equation for an ideal gas is as follows:\n",
    "\n",
    "$$ P V = n R T $$\n",
    "Where: $n$ is the number of moles and $R$ is a proportionality constant, which is found to be the same for any gas.\n",

    "**Answer 3.1** The $R$ is found to be the same for any gas\n",
    "**Question 4:** What are the dimensions of $R$?\n",
    "**Answer 4** M*L^2*T^-2*K^-1\n",
    "\n",
    "**Question 5:** What is the value of $R$ in SI units?\n",
    "**Answer 5** Joules * mol^-1 * T^-1\n",

    "\n",
    "**Question 4:** What are the dimensions of $R$?\n",
    "\n",
    "**Question 5:** What is the value of $R$ in SI units?\n",

    "\n",
    "The ideal gas equation is the state equation of the gas system in the sense that instead of solving the discrete Newton’s equations for each molecule we describe the behavior of the system as a function of state variables $P,V,n,$ and $T$.\n",
    "\n",
    "**Question 6:** Why can we do such “globalization” and when it will fail?\n",

    "**Answer 6** We can do globalization when there are few particles because it is easy to calculate each variable when there are not too many particles. When there are too many particles it will be impossible to calculate the momentum and position of each particle. We can write a macroscopic variable such as Temperature, Pressure and Volume rather than the momentum and position of each variable.\n",
    "\n",
    "**Question 7:** What happens if the system is not in equilibrium?\n",

    "\n",
    "\n",
    "**Question 7:** What happens if the system is not in equilibrium?\n",

    "\n",
    "Of course, real gases can only be approximately described by the ideal gas law, and the approximation tends to work well when experiments are performed under suitable conditions.  In particular, the ideal gas law tends to work well when the pressure of the gas is low, and temperatures are above vaporization temperature. Nevertheless, provided these conditions are satisfied, most gases do conform quite well to the ideal gas equation with about the same proportionality constant for each.\n",
    "\n",
    "One measure of how well a real gas behaves as ideal gas is to measure $P, V,$ and $T,$ and see how close $\\frac{RT}{PV}$ is to 1. The quantity $\\frac{RT}{PV}$ is known as the compression factor, and is often given the symbol $Z$. \n",
    "For most real gases at very high pressures (a few hundred atmospheres), it is found in fact that $Z$ is rather greater than 1. As the pressure is lowered, $Z$ decreases and becomes slightly less than 1. Then at yet lower pressures $Z$ rises again. The exact shape of the $Z$ vs. $P$ curve is different from gas to gas, as is the pressure at which $Z$ is a minimum. Yet, for all gases, as the pressure approaches zero, $\\frac{PV}{nT}$ approaches $R$ exactly.\n",
    "Another way to look at how closely real gases obey the ideal gas equation is to plot $P$ vs. $V$ for a number of different temperatures. That is, we draw a set of isotherms. For an ideal gas, these isotherms, $PV = \\; constant$, are rectangular hyperbolas. So they are for real gases at high temperatures. At lower temperatures, departures from the ideal gas equation are marked. Typical isotherms are sketched in Figure 1. "
   ]
  },
  {
   "cell_type": "markdown",
   "metadata": {},
   "source": [
    "<img src=\"Figure_1.png\" width=300 height=300 />\n",
    "<figcaption align = \"center\"><b>Figure 1:</b> Representative isotherm of a real gas.</figcaption> "
   ]
  },
  {
   "cell_type": "markdown",
   "metadata": {},
   "source": [
    "In the PV plane of Figure 1, you will see several areas marked \"gas\", \"liquid\", \"vapour\", \"liquid + vapour\" (State diagram for the compound). You can follow the behavior at a given temperature by starting at the right-hand end of each isotherm, and gradually moving to the left – i.e. increase the pressure and decrease the volume. The high temperature isotherm is nearly hyperboloidal (ideal gas behavior). Nothing special happens beyond the volume decreasing as the pressure is increased, according to Boyle's law. \n",
    "At slightly lower temperatures, a kink develops in the isotherm, and at the critical temperature (marked CI on the graph)  the $P$ vs $V$ curve shows a local horizontal inflection point. The isotherm for the critical temperature is the critical isotherm. Still nothing special happens other than $V$ decreasing as $P$ is increased, though not now according to Boyle's law.\n",
    "For temperatures below the critical temperature, we refer to the gas as a vapour. As you decrease the volume, the pressure gradually increases until you reach the dashed curve. At this point, some of the vapour liquefies, and, as you continue to decrease the volume, more and more of the vapour liquefies, the pressure remaining constant while it does so. That is the horizontal portion of the isotherm. In that region (i.e. outlined by the dashed curve) we have liquid and vapour in equilibrium. Near the right-hand end of the horizontal portion, there is just a small amount of liquid; at the left-hand end, most of the substance is liquid, with only a small amount of vapour left.\n",
    "After it is all liquid, further increase of pressure barely decreases the volume, this is because liquids have a very small compressibility. The isotherm is then almost vertical.\n",
    "The temperature of the critical isotherm is the critical temperature. The pressure and molar volume at the horizontal inflection point of the critical isotherm are the critical pressure and critical molar volume. The horizontal inflection point is the critical point.\n",
    "\n",
    "**Van der Waals and Other Gases**\n",
    "We have seen that real gases resemble an ideal gas only at low pressures and high temperatures.\n",
    "Various attempts have been made to find an equation that adequately represents the relation between $P, V$ and $T$ for a real gas – i.e. to find an Equation of State for a real gas. Some of these attempts have been purely empirical attempts to fit a mathematical formula to real data. Others are the result of at least an attempt to describe some physical model that would explain the behavior of real gases. A sample of some of the simpler equations that have been proposed follows:\n"
   ]
  },
  {
   "cell_type": "markdown",
   "metadata": {},
   "source": [
    "<img src=\"Figure_2.png\" width=700 />\n",
    "<figcaption align = \"center\"><b>Figure 2:</b> Different real gas equations.  *In Clausius’s equation, if we choose c=3b, we get a good agreement between the critical compression factor of a Clausius gas and many real gases.\n",
    "In the virial equation in general the coefficients A, B, C… are functions of temperature</figcaption> \n"
   ]
  },
  {
   "cell_type": "markdown",
   "metadata": {},
   "source": [
    "**MATERIALS AND EQUIPMENT:**\n",
    "\n",
    " a. Graduated cylinders with capacities of 100.0 mL to 250 mL as appropriate to fit into the water bath as shown in Figure 3. \n",
    "  \n",
    " b. Water glass tank corresponding to the specific set of graduated cylinders assigned to the group\n",
    "  \n",
    " c. Heater-Circulator pump\n",
    "  \n",
    " d. Thermometer\n",
    "  \n",
    " e. Stand\n",
    " \n",
    " f. Thermometer clamp\n",
    " \n",
    " g. Set of weights (Ballast)\n",
    " \n",
    " h. Rubber bands\n",
    " \n"
   ]
  },
  {
   "cell_type": "markdown",
   "metadata": {},
   "source": [
    "**Experimental Setup:**\n",
    "\n",
    "In this experimental part each group will use inverted graduated cylinders partially filled with an air bubble and submerged in a water bath as shown in Figure 3.\n",
    "Each cylinder is kept from tipping up by stainless steel weighs/rods held at the graduate cylinder dispensing end by rubber bands.\n",
    "The water bath tank is from glass so you can read and track the behavior of the air bubble from outside the tank as the temperature in the water bath changes.\n",
    "The location of the graduate cylinders should be such to avoid drifting inside the tank due to the circulation generated by the heater-circulator device (optional, manual stirring is also possible).\n"
   ]
  },
  {
   "cell_type": "markdown",
   "metadata": {},
   "source": [
    "<img src=\"Figure_3.png\" width=600 />\n",
    "<figcaption align = \"center\"><b>Figure 3:</b> Experimental setup.</figcaption> "
   ]
  },
  {
   "cell_type": "markdown",
   "metadata": {},
   "source": [
    "\n",
    "<img src=\"Figure_4.jpg\" width=400 />\n",
    "<figcaption align = \"center\"><b>Figure 4:</b> Example 50 mL graduated cylinder assembly. </figcaption> \n",
    "\n",
    "**Setup of Experiment:**\n",
    "After the system is set up and you have read and understood the procedure and goals of the experiment proceed with the experimental part below.\n",
    "1.\tConfirm the water tanks are filled with water at the desired initial temperature (if hot at first, you will be cooling the water with ice throughout the experiment, if cold at first, you will be heating the water throughout the experiment)\n",
    "2.\tPlace two rubber bands over the graduated cylinder end, separated by approximately 4 cm. These are to avoid the weighs slip and to protect the glass from steel sharp points.\n",
    "3.\tHolding the two or three ballast SS bars against the outside of the graduate cylinder (on the area where the previous rubber bands are located), secure the bars with two additional rubber bands to hold the SS bars against the graduate cylinder (See Figure 3).\n",
    "4.\tFill each graduated cylinders with water up to about 2/3 of its capacity (See Table 1 for approximate values) Introduce each cylinder inverted into the water tank (See Figure 1) by closing the front with your hand or a rubber stopper. Do not remove your hand or stopper until the end of the graduate cylinder is submerged in the tank’s water. Failing to do so will cause the graduate cylinder to empty and you will have to start over.\n",
    "5.\tOnce all three cylinders are set, we will collect data for five different temperatures from hot to cold as follows:\n",
    "6.\tEmpty the water tank (e.g. by syphoning) until the water level is close to the graduated cylinders end; refill the tanks with very hot water from the faucet.\n",
    "7.\tSet up the thermometer so that the tip is close to the area where the graduated cylinders are located.\n",
    "8.\tBe sure that the graduated cylinders are oriented such that you can read the bubble air volume from outside the water tank.\n",
    "9.\tOnce the temperature of the bath is stable, wait at least 1 minute, record the $T_{bath}$ (in C), water column height ($H_{wc}$),  and $V_{bubble}$ (in mL) of the air bubbles in each graduated cylinder\n",
    "10.\tRepeat *2* to *4* by siphoning hot water out  and adding cold water.\n",
    "11.\tAfter the temperature in the tank is about 30-40$^{\\circ}$ C, remove water (e.g. by syphoning) and add ice to cool the setup below room temperature.  Collect two more data points, with the final data point at $T\\approx 0^{\\circ}$C (ice bath conditions).\n",
    "\n",
    "\n",
    "<img src=\"table.png\" width=400 />\n",
    "<figcaption align = \"center\"><b>Figure 5:</b> Target bubble volumes for each trial by cylinder size. </figcaption> "
   ]
  },
  {
   "cell_type": "markdown",
   "metadata": {},
   "source": [
    "**Recording data**\n",
    "Each group will record the following parameters:\n",
    "\n",
    "1.\tTemperature of the bath\n",
    "2.\tVolume of the air bubble, \n",
    "3.\tHeight form the bottom of the bubble to the surface of the water (column of water)\n"
   ]
  },
  {
   "cell_type": "code",

   "execution_count": 4,

   "metadata": {},
   "outputs": [],
   "source": [
    "import numpy as np\n",
    "# pressure in the room in torr (as measured by barometer on 9/29/21)\n",
    "P_air = 751\n",
=
    "P_air_SI = P_air * 133.3\n",
    "#Pressure in pascal\n",
    "# trial 1 for team 1\n",
    "# in celcius\n",
    "team_1_T_1 = np.array([71,50, 40, 34, 20, 10, 1.5])\n",
    "team_1_T_1_SI = team_1_T_1 + 273.15\n",
    "#Temperature in K\n",
    "\n",
    "# in mL\n",
    "team_1_V_1 = np.array([240, 181, 160, 150, 140, 134,130])\n",
    "team_1_V_1_SI = team_1_V_1 * 1e-6\n",
    "#Volume in m^3\n",
    "# in \n",
    "team_1_H_1 = np.array([27, 22, 21, 18, 21,17, 17 ])\n",
    "team_1_H_1_SI = team_1_H_1 * 25.4 / 13.6 * 133.3\n",
    "#Pressure in pascal\n",
    "\n",
    "# trial 2 for team 1\n",
    "team_1_T_2 = np.array([39, 30, 22])\n",
    "team_1_T_2_SI = team_1_T_2 + 273.15\n",
    "#Temperature in K\n",
    "team_1_V_2 = np.array([86,89, 87])\n",
    "team_1_V_2_SI = team_1_V_2 *1e-6\n",
    "#Volume in m^3\n",
    "team_1_H_2 = np.array([13, 11, 12])\n",
    "team_1_H_2_SI = team_1_H_2 * 25.4 / 13.6 * 133.3\n",
    "#Pressure in pascal\n",
    "\n",
    "# trial 3 for team 1\n",

    "# trial 1 for team 1\n",
    "# in celcius\n",
    "team_1_T_1 = np.array([71,50, 40, 34, 20, 10, 1.5])\n",
    "# in mL\n",
    "team_1_V_1 = np.array([240, 181, 160, 150, 140, 134,130])\n",
    "# in \n",
    "team_1_H_1 = np.array([27, 22, 21, 18, 21,17, 17 ])\n",
    "\n",
    "# trial 2 for team 1\n",
    "team_1_T_2 = np.array([39, 30, 22])\n",
    "team_1_V_2 = np.array([86,89, 87])\n",
    "team_1_H_2 = np.array([13, 11, 12])\n",
    "\n",
    "# trial 2 for team 1\n",

    "team_1_T_3 = np.array([])\n",
    "team_1_V_3 = np.array([])\n",
    "team_1_H_3 = np.array([])\n",
    "\n",
    "# trial 1 for team 2\n",

    "\n",
    "# temperature in C\n",
    "team_2_T_1 = np.array([64.4, 53, 43, 34, 25, 15, 10.3])\n",
    "team_2_T_1_SI = team_1_T_1 + 273.15\n",
    "#Temperature in K\n",
    "\n",
    "# volume in mL\n",
    "team_2_V_1 = np.array([79, 74, 65, 61, 58, 55, 53])\n",
    "team_2_V_1_SI = team_2_V_1 * 1e-6\n",
    "#Volume in m^3\n",
    "\n",
    "# height in inches\n",
    "team_2_H_1 = np.array([6.5, 6.5, 6.6, 4.8, 4.4, 5, 5.5])\n",
    "team_2_H_1_SI = team_2_H_1 * 25.4 / 13.6 * 133.3\n",
    "#Pressure in pascal\n",
    "\n",
    "# trial 2 for team 2\n",
    "team_2_T_2 = np.array([32, 28, 24, 20, 14, 9.5, 2])\n",
    "team_2_T_2_SI = team_2_T_2 + 273.15\n",
    "#Temperature in K\n",
    "team_2_V_2 = np.array([49, 48, 46, 45, 43, 42.5, 42])\n",
    "team_2_V_2_SI = team_2_V_2 * 1e-6\n",
    "#Volume in m^3\n",
    "team_2_H_2 = np.array([4.1, 4.3, 4.5, 3.6, 3, 2.5, 1.4])\n",
    "team_2_H_2_SI = team_2_H_2 * 25.4 / 13.6 * 133.3\n",
    "#Pressure in pascal\n",

    "# temperature in C\n",
    "team_2_T_1 = np.array([64.4, 53, 43, 34, 25, 15, 10.3])\n",
    "# volume in mL\n",
    "team_2_V_1 = np.array([79, 74, 65, 61, 58, 55, 53])\n",
    "# height in inches\n",
    "team_2_H_1 = np.array([6.5, 6.5, 6.6, 4.8, 4.4, 5, 5.5])\n",
    "\n",
    "# trial 2 for team 2\n",
    "team_2_T_2 = np.array([32, 28, 24, 20, 14, 9.5, 2])\n",
    "team_2_V_2 = np.array([49, 48, 46, 45, 43, 42.5, 42])\n",
    "team_2_H_2 = np.array([4.1, 4.3, 4.5, 3.6, 3, 2.5, 1.4])\n",

    "\n",
    "# trial 3 for team 2\n",
    "team_2_T_3 = np.array([])\n",
    "team_2_V_3 = np.array([])\n",
    "team_2_H_3 = np.array([])"
   ]
  },
  {
   "cell_type": "markdown",
   "metadata": {},
   "source": [
    "**Calculations**\n",
    "1.\tTo have a better statistical analysis all groups will analyze all the data.\n",
    "2.\tCalculate the contribution of water vapor in the air bubble by using the water vapor pressure at each temperature measured from the Table provided.  \n",
    "You may need to use a fitting or interpolation to obtain the values at the temperature you measured. \n",
    "3.\tUse Dalton’s Partial Pressure Law at the lowest temperature recorded and the vapor pressure of water from literature to estimate the mols of air in the bubble.\n",
    "\n",
    "$$ P_{total} = P_{atmosphere} + P_{column height} = P_{water vapor} + P_{air} $$\n",
    "\n",
    "4.\tCalculated, at each temperature measured:\n",
    "\n",
    "$$ P_{air} = P_{total} - P_{water vapor} $$\n",
    "\n",
    "Remember the water pressure of the water vapor is from literature tables.\n",
    "\n",
    "5.\tCalculate at each temperature \n",
    "\n",
    "$$ Z_{air} = \\frac{n_{air} R T_{air}}{P_{air} V_{air}} $$\n",
    "\n",
    "6.\tPlot Zair vs Tair\n",
    "7.\tUse the raw data from other groups and perform same calculations.\n",
    "8.\tScatter Plot $Z_{air}$ vs $T_{air}$ for all set the data provided.  You may fit the scatter plot by a curve that better represent the trends\n",
    "9.\tDiscuss the results.\n",
    "\n",
    "The experiment may be performed in group and you can discuss your results with the group and other students. However, it is expected that you write your own interpretation and conclusions.\n",
    "\n",
    "**Question 8:** Is it the water vapor the only correction we need to take in account? Think about the system and the surroundings what else may interact and introduce uncertainty\n",

    "**Answer 8** We need to take into account not just the current water vapor but also the water vapor formation because at high temperature the formation of water vapor is not constant. We need to take pressure from the atmosphere, column height, water vapor and air must be taken into account\n",
    "\n",
    "**Question 9:** Why is it better to estimate the moles of air at the lowest temperature and not at the highest one? \n",
    "**Answer 9** There is no water vapor at low temperature\n"

    "\n",
    "**Question 9:** Why is it better to estimate the moles of air at the lowest temperature and not at the highest one? \n",
    "\n"

   ]
  },
  {
   "cell_type": "markdown",
   "metadata": {},
   "source": [
    "<img src=\"Vapor_Pressure.png\" width=600 />\n",
    "<figcaption align = \"center\"><b>Figure 6:</b> Vapor Pressure of water vs Temperature </figcaption> "
   ]
  },
  {
   "cell_type": "code",
   "execution_count": 2,
   "metadata": {},
   "outputs": [
    {
     "data": {
      "image/png": "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\n",
      "text/plain": [
       "<Figure size 432x288 with 1 Axes>"
      ]
     },
     "metadata": {
      "needs_background": "light"
     },
     "output_type": "display_data"
    }
   ],
   "source": [
    "from scipy.interpolate import UnivariateSpline\n",
    "from matplotlib import pyplot as plt\n",
    "\n",
    "T_water = np.array([0.0,12.5,19.0,19.5,21.0,24.0,26.0,27.0,30.0,60.0,90.0,100.0])\n",
    "\n",
    "T_water_SI = T_water + 273.15\n",
    "\n",
    "P_water = np.array([4.6,10.9,16.5,17.0,18.6,22.4,25.2,26.7,31.8,149.4,525.8,760.0])\n",
    "\n",
    "P_water_SI = P_water *133.3\n",
    "\n",
    "P_water_spline = UnivariateSpline(T_water_SI, P_water_SI, k=3)\n",
    "plt.plot(T_water_SI, P_water_spline(T_water_SI), 'purple')\n",
    "plt.plot(T_water_SI, P_water_SI, 'o')\n",
    "plt.show()\n",
    "#P_total (P.tot = P.watervapor[known from spline] + P.air[unknown]) comes from air and vapor pressure\n",
    "#P.watercolumn (T) + P.atm - P.watercolumn (T)"
   ]
  },
  {
   "cell_type": "code",
   "execution_count": 8,
   "metadata": {},
   "outputs": [
    {
     "name": "stdout",
     "output_type": "stream",
     "text": [
      "0.005901684332524128\n",
      "103662.6358648256\n",
      "0.00013\n",
      "274.65\n",
      "100108.3\n",
      "0.003561590822039026\n",
      "100456.39261806599\n",
      "8.7e-05\n",
      "295.15\n",
      "100108.3\n",
      "0.0023396191536699867\n",
      "100799.62630600207\n",
      "5.3e-05\n",
      "274.65\n",
      "100108.3\n",
      "0.0018314953545030335\n",
      "99755.32051487171\n",
      "4.2e-05\n",
      "275.15\n",
      "100108.3\n"
     ]
    },
    {
     "data": {
      "image/png": "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\n",
      "text/plain": [
       "<Figure size 432x288 with 1 Axes>"
      ]
     },
     "metadata": {
      "needs_background": "light"
     },
     "output_type": "display_data"
    },
    {
     "data": {
      "image/png": "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\n",
      "text/plain": [
       "<Figure size 432x288 with 1 Axes>"
      ]
     },
     "metadata": {
      "needs_background": "light"
     },
     "output_type": "display_data"
    }
   ],
   "source": [
    "# P_air = P_watercolumn(T) + P_atmosphere - P_watervapor(T)\n",
    "P_air_team_1_Tr_1_SI =  team_1_H_1_SI + P_air_SI - P_water_spline(team_1_T_1_SI)\n",
    "P_air_team_1_Tr_2_SI =  team_1_H_2_SI + P_air_SI - P_water_spline(team_1_T_2_SI)\n",
    "P_air_team_2_Tr_1_SI =  team_2_H_1_SI + P_air_SI - P_water_spline(team_2_T_1_SI)\n",
    "P_air_team_2_Tr_2_SI =  team_2_H_2_SI + P_air_SI - P_water_spline(team_2_T_2_SI)\n",
    "\n",
    "\n",
    "\n",
    "\n",
    "n_t_1_t_1 = P_air_team_1_Tr_1_SI[6] * team_1_V_1_SI[6] / (8.314 * team_1_T_1_SI[6])\n",
    "print(n_t_1_t_1)\n",
    "print(P_air_team_1_Tr_1_SI[6])\n",
    "print(team_1_V_1_SI[6])\n",
    "print(team_1_T_1_SI[6])\n",
    "print(P_air_SI)\n",
    "\n",
    "n_t_1_t_2 = P_air_team_1_Tr_2_SI[2] * team_1_V_2_SI[2] / (8.314 * team_1_T_2_SI[2])\n",
    "print(n_t_1_t_2)\n",
    "print(P_air_team_1_Tr_2_SI[2])\n",
    "print(team_1_V_2_SI[2])\n",
    "print(team_1_T_2_SI[2])\n",
    "print(P_air_SI)\n",
    "\n",
    "n_t_2_t_1 = P_air_team_2_Tr_1_SI[6] * team_2_V_1_SI[6] / (8.314 * team_2_T_1_SI[6])\n",
    "print(n_t_2_t_1)\n",
    "print(P_air_team_2_Tr_1_SI[6])\n",
    "print(team_2_V_1_SI[6])\n",
    "print(team_2_T_1_SI[6])\n",
    "print(P_air_SI)\n",
    "\n",
    "n_t_2_t_2 = P_air_team_2_Tr_2_SI[6] * team_2_V_2_SI[6] / (8.314 * team_2_T_2_SI[6])\n",
    "print(n_t_2_t_2)\n",
    "print(P_air_team_2_Tr_2_SI[6])\n",
    "print(team_2_V_2_SI[6])\n",
    "print(team_2_T_2_SI[6])\n",
    "print(P_air_SI)\n",
    "\n",
    "z_t_1_t_1 = n_t_1_t_1 * 8.314 * team_1_T_1_SI / (P_air_team_1_Tr_1_SI * team_1_V_1_SI)\n",
    "\n",
    "z_t_1_t_2 = n_t_1_t_2 * 8.314 * team_1_T_2_SI / (P_air_team_1_Tr_2_SI * team_1_V_2_SI)\n",
    "\n",
    "z_t_2_t_1 = n_t_2_t_1 * 8.314 * team_2_T_1_SI / (P_air_team_2_Tr_1_SI * team_2_V_1_SI)\n",
    "\n",
    "z_t_2_t_2 = n_t_2_t_2 * 8.314 * team_2_T_2_SI / (P_air_team_2_Tr_2_SI * team_2_V_2_SI)\n",
    "plt.plot(team_1_T_1_SI, z_t_1_t_1, label=\"team 1 trial 1\")\n",
    "plt.plot(team_1_T_2_SI, z_t_1_t_2, label=\"team 1 trial 2\")\n",
    "plt.plot(team_2_T_1_SI, z_t_2_t_1, label=\"team 2 trial 1\")\n",
    "plt.plot(team_2_T_2_SI, z_t_2_t_2, label=\"team 2 trial 2\")\n",
    "plt.legend()\n",
    "plt.show()\n",
    "\n",
    "plt.plot(team_1_V_1_SI, P_air_team_1_Tr_1_SI, label = 'team 1 trial 1')\n",
    "plt.plot(team_1_V_1_SI, n_t_1_t_1 * 8.314 * team_1_T_1_SI / team_1_V_1_SI, 'o', label=\"team 1 trial 1\")\n",
    "plt.plot(team_1_V_2_SI, P_air_team_1_Tr_2_SI, label = 'team 1 trial 2')\n",
    "plt.plot(team_1_V_2_SI, n_t_1_t_2 * 8.314 * team_1_T_2_SI / team_1_V_2_SI, 'o', label=\"team 1 trial 2\")\n",
    "plt.plot(team_2_V_1_SI, P_air_team_2_Tr_1_SI, label = 'team 2 trial 1')\n",
    "plt.plot(team_2_V_1_SI, n_t_2_t_1 * 8.314 * team_2_T_1_SI / team_2_V_1_SI, 'o', label=\"team 2 trial 1\")\n",
    "plt.plot(team_2_V_2_SI, P_air_team_2_Tr_2_SI, label = 'team 2 trial 2')\n",
    "plt.plot(team_2_V_2_SI, n_t_2_t_2 * 8.314 * team_2_T_2_SI / team_2_V_2_SI, 'o', label=\"team 2 trial 2\")\n",
    "plt.legend()\n",
    "plt.show()"
   ]
  },
  {
   "cell_type": "code",
   "execution_count": null,
   "metadata": {},
   "outputs": [],
   "source": [
    "# Z = (nRT)/(PV)\n",
    "# Z = 0 \n",
    "# nair = (P air * V air)/(R * T air) <-- Ideal gas\n",
    "#"
   ]

   "execution_count": null,
   "metadata": {},
   "outputs": [],
   "source": []
  }
 ],
 "metadata": {
  "kernelspec": {
   "display_name": "Python 3",
   "language": "python",
   "name": "python3"
  },
  "language_info": {
   "codemirror_mode": {
    "name": "ipython",
    "version": 3
   },
   "file_extension": ".py",
   "mimetype": "text/x-python",
   "name": "python",
   "nbconvert_exporter": "python",
   "pygments_lexer": "ipython3",
   "version": "3.8.8"
  }
 },
 "nbformat": 4,
 "nbformat_minor": 4
}
