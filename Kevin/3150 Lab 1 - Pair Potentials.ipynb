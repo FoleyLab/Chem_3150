{
 "cells": [
  {
   "cell_type": "code",
   "execution_count": 2,
   "metadata": {},
   "outputs": [],
   "source": [
    "import numpy as np\n",
    "from matplotlib import pyplot as plt\n",
    "from scipy.interpolate import UnivariateSpline"
   ]
  },
  {
   "cell_type": "markdown",
   "metadata": {},
   "source": [
    "This notebook will give an introduction to different pair potentials and will allow you to:\n",
    "\n",
    "- Plot them to visualize their behavior as the pair distance $r$ approaches 0 or $\\infty$\n",
    "- Automatically differentiate them to investigate the behavior of the force\n",
    "\n",
    "First thing we will do is define some constants to be used for each potential.\n",
    "\n",
    "**Constants in SI units for Coulomb potential**\n",
    "- $\\epsilon_0 = 8.85418782 × 10^{-12} \\: C^2 \\: s^2 \\: kg^{-1} \\: m^{-2}$ \n",
    "- $e = 1.60217662 × 10^{-19} \\: C$\n",
    "\n",
    "We will define constants in python with the names `eps_0` , `q_1`, and `q_2` for the\n",
    "permittivity of free space, the charge of the proton, and the charge of the electron, respectively.\n",
    "\n",
    "We will also define a list of separation values (called an array) using a python library called `numpy`.  We will try to make these separations relevant for the atomic scale, so we will use increments of Angstroms (or $10^{-10}$ meters).  We will call this array `r_coulomb`."
   ]
  },
  {
   "cell_type": "code",
   "execution_count": 5,
   "metadata": {},
   "outputs": [
    {
     "data": {
      "image/png": "[encoded data removed]",
      "text/plain": [
       "<Figure size 432x288 with 1 Axes>"
      ]
     },
     "metadata": {
      "needs_background": "light"
     },
     "output_type": "display_data"
    }
   ],
   "source": [
    "# permittivity\n",
    "eps_0 = 8.85418782e-12\n",
    "\n",
    "# charge of proton\n",
    "q_1 = 1.60217662e-19\n",
    "\n",
    "# charge of electron\n",
    "q_2 = -1.60217662e-19\n",
    "\n",
    "# create an array of separation values\n",
    "r_coulomb = np.linspace(1e-10, 30e-10, 50)\n",
    "\n",
    "V_coulomb = q_1 * q_2 / ( 4 * np.pi * eps_0 * r_coulomb)\n",
    "\n",
    "plt.plot(r_coulomb, V_coulomb, 'r-o')\n",
    "plt.show()"
   ]
  },
  {
   "cell_type": "markdown",
   "metadata": {},
   "source": [
    "We will fit a function called a *cubic spline* to the Coulomb potential.  A cubic spline fines cubic polynomials that best fit the adjacent pairs of points in the data you are trying to model, in this case the 50 values of the Coulomb potential stored in `V_coulomb` at the \n",
    "different separations stored in `r_coulomb`. The Python library `scipy` makes it easy to fit splines to data when the independent and dependent variables of the data you want to fit are stored in arrays:\n",
    "\n",
    "`spline = UnivariateSpline(x_data, y_data, k=3)`\n",
    "\n",
    "where `x_data` refers to the array containing the independent variable data and `y_data` refers to the array containing the dependent variable data.\n",
    "\n",
    "**Question 1** What is the name we have used for the array containing our independent variable data for the Coulomb potential?\n",
    "\n",
    "**Question 2** What is the name we have used for the array containing our dependent variable data for the Coulomb potential?\n",
    "\n",
    "**Question 3** Using your answers to **1** and **2** above, write a line of code that will fit the Coulomb potential to a cubic spline that has the name `coulomb_spline`."
   ]
  },
  {
   "cell_type": "code",
   "execution_count": null,
   "metadata": {},
   "outputs": [],
   "source": [
    "# write line of code fiting a cubic spline to the Coulomb potential"
   ]
  },
  {
   "cell_type": "markdown",
   "metadata": {},
   "source": [
    "One extremely useful feature of splines is that finding the derivatives (and anti-derivatives or integrals) of the splines is extremely straightforward, and can be accomplished by 1 line of python code.  \n",
    "\n",
    "**Question 4** If the the line connecting two points on a curve is approximated as a cubic polynomial as \n",
    "\n",
    "$$ f(x) = a + bx + cx^2 + dx^3 $$,\n",
    "\n",
    "write an expression for the first derivative with respect to $x$:\n",
    "\n",
    "$$ f'(x) = _____________________ $$\n",
    "\n",
    "The syntax for taking the derivate of the `coulomb_spline` and storing it in a new spline called `coulomb_derivative_spline` is \n",
    "\n",
    "`coulomb_prime = coulomb_spline.derivative()`\n",
    "\n",
    "**Question 5** Compute the derivative of `coulomb_spline` in the cell below.  Comment on how the derivative of the Coulomb potential relates to the Coulomb force."
   ]
  },
  {
   "cell_type": "code",
   "execution_count": 6,
   "metadata": {},
   "outputs": [],
   "source": [
    "# compute derivative of the Coulomb spline"
   ]
  },
  {
   "cell_type": "markdown",
   "metadata": {},
   "source": [
    "**Question 6** Given the expression for the Coulomb potential is \n",
    "$$V(r) = \\frac{q_1 q_2}{4 \\pi \\epsilon_0 r} $$,\n",
    "write an expression for the Coulomb Force.\n",
    "\n",
    "**Question 7** Use the expression for the Coulomb Force in **6** to define an array of\n",
    "Coulomb force values at each value of `r_coulomb`; call the array of force values `F_coulomb`\n"
   ]
  },
  {
   "cell_type": "code",
   "execution_count": null,
   "metadata": {},
   "outputs": [],
   "source": [
    "# Define F_coulomb here "
   ]
  },
  {
   "cell_type": "markdown",
   "metadata": {},
   "source": [
    "We will now use `coulomb_derivative_spline` to evaluate the Coulomb force to compare it to the array `F_coulomb` you just created.  The Spline takes one or more independent variable values and returns the corresponding dependent variable value(s) based on the fit that was determined by the underlying scipy computation.  Therefore, to compute an estimate of the Force from the `coulomb_derivative_spline` as follows:\n",
    "\n",
    "`F_coulomb_from_spline = -1 * coulomb_derivative_spline(r_coulomb)`\n",
    "\n",
    "where `r_coulomb` is the array of independent variable values, we have multiplied the spline acting on these values by -1 to match the Force definition, and `F_coulomb_from_spline` will be the resulting array of Force values from this approximation.\n",
    "\n",
    "In principle, the two different methods (evaluating the analytic expression for the Coulomb force and using the capabilities of splines to differentiate the Coulomb potential) should yield results that are numerically identical.  We will test this in two different ways - by visual inspection through plotting the two different arrays, and by numerical comparison using the `numpy` function `allclose(array_1, array_2)` that returns `True` if `array_1` and `array_2` are element-by-element the same (to within numerical roundoff), and returns `False` if they are not."
   ]
  },
  {
   "cell_type": "code",
   "execution_count": 7,
   "metadata": {},
   "outputs": [],
   "source": [
    "# Compute F_coulomb_from_spline here\n",
    "\n",
    "# plot F_coulomb_from_spline vs r_array and F_coulomb vs r_array here\n",
    "\n",
    "# use np.allclose() on F_coulomb_from_spline and F_coulomb here"
   ]
  },
  {
   "cell_type": "markdown",
   "metadata": {},
   "source": [
    "**Constants in SI units for Harmonic Potential**\n",
    "- $k = 970 \\: kg \\: m \\: s^{-2}$ (for the HF molecule)\n",
    "\n",
    "We will define constants in python with the names `k` for the force constant,\n",
    "and also define a list of separation values (called an array) again using `numpy`.  We will try to make these separations relevant for the molecular scale, so we will use increments of Angstroms (or $10^{-10}$ meters).  We will call this array `r_harmonic`."
   ]
  },
  {
   "cell_type": "code",
   "execution_count": null,
   "metadata": {},
   "outputs": [],
   "source": [
    "k = 970\n",
    "r_harmonic = np.linspace(-3e-10, 3e-10, 1000)\n",
    "V_harmonic = 0.5 * k * r_harmonic ** 2\n",
    "\n",
    "plt.plot(r_harmonic, V_harmonic)\n",
    "plt.show()"
   ]
  },
  {
   "cell_type": "markdown",
   "metadata": {},
   "source": [
    "**Question 8** Write an expression for the Force based on the Harmonic potential.\n",
    "\n",
    "Similar to what we did before, we will fit a spline to `V_harmonic` called `harmonic_spline` and use it to estimate the force associated with the Harmonic potential.  We will also calculate an array of force values using the expression we derived in **8**. We will check for agreement both visually through plotting, and numerically using `np.allclose()`."
   ]
  },
  {
   "cell_type": "code",
   "execution_count": null,
   "metadata": {},
   "outputs": [],
   "source": [
    "# Compute F from Harmonic potential using your result from 8 here\n",
    "\n",
    "# Fit a spline to V_Harmonic here\n",
    "\n",
    "# Use the derivative() method of the spline to define a force\n",
    "\n",
    "# plot the spline force vs the force from your expression here\n",
    "\n",
    "# use np.allclose() to check if these two match"
   ]
  },
  {
   "cell_type": "markdown",
   "metadata": {},
   "source": [
    "**Lennard-Jones Constants in SI Units**\n",
    "- $\\epsilon = 1.65621 × 10^{-21}$ J \n",
    "- $\\sigma = 3.4 × 10^{-10}$ m\n",
    "(For Argon)"
   ]
  },
  {
   "cell_type": "code",
   "execution_count": null,
   "metadata": {},
   "outputs": [],
   "source": [
    "eps = 1.656768e-21\n",
    "sig = 3.4e-10\n",
    "\n",
    "r_lj = np.linspace(1*sig, 3*sig, 1000)\n",
    "V_lj = 4 * eps * ((sig/r_lj)**12 - (sig/r_lj)**6)\n",
    "\n",
    "plt.plot(r_lj, V_lj)\n",
    "plt.show()"
   ]
  },
  {
   "cell_type": "markdown",
   "metadata": {},
   "source": [
    "**Question 9** Write an expression for the Force based on the Lennard-Jones potential.\n",
    "\n",
    "Similar to what we did before, we will fit a spline to `V_lj` called `lj_spline` and use it to estimate the force associated with the Harmonic potential.  We will also calculate an array of force values using the expression we derived in **9**. We will check for agreement both visually through plotting, and numerically using `np.allclose()`."
   ]
  }
 ],
 "metadata": {
  "kernelspec": {
   "display_name": "Python 3",
   "language": "python",
   "name": "python3"
  },
  "language_info": {
   "codemirror_mode": {
    "name": "ipython",
    "version": 3
   },
   "file_extension": ".py",
   "mimetype": "text/x-python",
   "name": "python",
   "nbconvert_exporter": "python",
   "pygments_lexer": "ipython3",
   "version": "3.8.5"
  }
 },
 "nbformat": 4,
 "nbformat_minor": 4
}
