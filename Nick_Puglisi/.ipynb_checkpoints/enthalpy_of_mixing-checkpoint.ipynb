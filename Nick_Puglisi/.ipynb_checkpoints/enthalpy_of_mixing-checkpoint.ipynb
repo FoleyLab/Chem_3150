{
 "cells": [
  {
   "cell_type": "markdown",
   "metadata": {},
   "source": [
    "#### LABORATORY 3: ENTHALPHY OF MIXING\n",
    "#### CHEM 3150 PHYSICAL CHEMISTRY\n",
    "#### WPU-CHEMISTRY DEPARTMENT\n",
    "**BACKGROUND:**\n",
    "\n",
    "The inter-dissolution of two substance is a phenomenon controlled by a reduction of free energy (either Gibbs or Helmholtz), as such it has an enthalpy and entropy components.\n",
    "\n",
    "There are two factors that can drive processes to occur. The first is the heat exchanged as a result of the process. This is referred to as the “change in enthalpy” and sometimes as “the heat of reaction”. If heat is released in the process ($\\Delta H < 0$), it favors the feasibility of the reaction to occur. The second is the change in the state of order in the system. This is referred to as the “change in entropy”. A process that results in a more disordered state (higher number of configurational states available) favors spontaneity ($\\Delta S \\ge 0$) as per the Second Law of Thermodynamics. These two factors will contribute to define the free energy of the system (either Gibbs or Helmholtz) and determining whether a process is indeed spontaneous. The change in Gibbs free energy (G) which is a function of the change in enthalpy ($\\Delta H$) and the change in entropy ($\\Delta S$). If $\\Delta G$ is negative, the reaction occurs spontaneously otherwise it does not occur spontaneously. Thus, any spontaneous endothermic process has to be driven by a positive change in entropy,\n",
    "$$ \\Delta G = \\Delta H - T \\Delta S $$.\n",
    "\n",
    "Notice that even though the reaction may occurs spontaneously, the change in $G$ does not tell anything about the rate of the reaction or the kinetics of the reaction. The later are controlled by reaction kinetic factors.\n",
    "Intermolecular interaction between the substances play a role in the miscibility of two substances. The miscibility of polar solvents, such as water and ethanol are based, in part, on hydrogen bonding. Pure water exists as spheres of 10-30 water molecules held together via hydrogen bonds. Pure ethanol is similar, but generally the clusters of ethanol are smaller. As we will soon verify, these two solvents are completely miscible in all proportions. \n",
    "What happens to the intermolecular bonding structure when these two solvents are mixed? Some water-water hydrogen bonds and ethanol-ethanol hydrogen bonds are broken and some water-ethanol hydrogen bonds are formed. The process of breaking bonds is endothermic (heat is absorbed by the molecules and the energy is used to break the bonds). The process of making bonds is exothermic (heat is released). By measuring the temperature change of the solutions upon mixing, one can assess whether a net number of hydrogen bonds were formed or broken upon mixing. Because molecules that are on the inside of the sphere are generally involved in more hydrogen bonding than those on the surface of the sphere, an exothermic mixing suggests that bigger clusters were formed and an endothermic mixing suggests that mixing has resulted in smaller solvent clusters. \n",
    "\n",
    "Consequently, more configurational states are available (water-ethanol states) for each molecule that the original water-water and ethanol-ethanol ones. Therefore, entropy increases after the dissolution of the two substances.\n",
    "Similarly rationale may be used from non-polar substances but considering dispersion forces instead.  A broader scope of the phenomena occurs when all inter-molecular forces discussed in College Chemistry are considered.\n",
    "Question1: In College Chemistry we learn a definition of solvation; however, the molecular mechanism of dissolution to achieve solvation in the case of a solid-liquid or liquid-liquid was never touched. Search/investigate for the molecular mechanism that allows solvation to happen?\n",
    "\n",
    "However, we can realize that even if no interactions occur between the molecules, the mixing of two substance may occur due to the entropic contribution lowering the Gibbs free energy.\n",
    "For an ideal solution of liquid 1 and liquid 2 the following applies:\n",
    "\n",
    "$$\\Delta H_{mix} = 0 $$\n",
    "\n",
    "Therefore the only component of the free energy is the one related to entropy:\n",
    "$$ \\Delta G_{mix} = RT \\left(\\chi_1 Ln( \\chi_1) + \\chi_2 Ln(\\chi_2) \\right) $$              \n",
    "Where $\\chi$ are the molar fractions of the corresponding liquid\n",
    "Additionally from College Chemistry you are familiar with the relationship between heat flow and specific heat capacity ($C_s$)\n",
    "\n",
    "$$q  = m C_s \\Delta T    $$                                 \n",
    "\n",
    "The net heat flow/change from the dissolution process can be calculated using this relationship when the amount of one of the substances dissolved (solute) is small compared to the amount of the other one (solvent) or what is called a diluted solution. \n",
    "Question2: In this laboratory we will be considering solutions which are not considered “diluted”, how you deal with the heat flow calculations in such situations?\n",
    "Preparing for this laboratory, read the following material:\n",
    "a)\tChapter 6,  Sections 6.5 to 6.6 and Chapter 9, Sections 9.1 to 9.3 from the Physical-Chemistry text book\n",
    "b)\t“Solution Calorimetry Experiments for Physical Chemistry”, D. A. Raizen, B. M. Fung, and S. D. Christian, Jou. Chem. Education, page 933 reference provided.\n",
    "c)\tCollege Chemistry background in Thermochemistry needed.\n",
    "SAFETY:\n",
    "1.\tUSE GOGGLES AT ALL THE TIME WHILE WORKING IN THE LAB\n",
    "2.\tIN THIS EXPERIMENT WE WILL MIX HOT LIQUIDS AS WELL AS VOLATILE LIQUIDS USE GLOVES AND HANDLE VOLATILE LIQUIDS IN THE HOOD.\n",
    "\n",
    "MATERIALS AND EQUIPMENT:\n",
    "1.\tCalorimeter:\n",
    "-\tDewar flask Calorimeter. Synthware Glass, Inc.\n",
    "-\tCalorimeter cap made from insulation material\n",
    "Question 3: Search/investigate for the heat capacity, thermal conductivity, and density of glass, stainless steel, Teflon and magnetic alloys. How this information may allow you to design and build a better calorimeter?\n",
    "2.\tTwo Thermometers\n",
    "3.\tSmall Teflon stirring rod\n",
    "4.\tTest samples:\n",
    "a.\tDistilled water\n",
    "b.\tCyclohexane\n",
    "c.\tEthanol\n",
    "d.\tAcetone\n",
    "5.\tTwo 50 mL graduate cylinders\n",
    "6.\tOne 10 mL graduated cylinder\n",
    "\n",
    "\n",
    "EXPERIMENTAL SETUP:\n",
    "1.\tExperimental schematic\n",
    "We will use glass vacuum jacket isolated calorimeter and a thermometer as shown in Figure 1. An insulating top for the cup will have the following holes/ports:\n",
    "a)\tA hole in it where you can stick a thermometer\n",
    "b)\tA hole closed with a stopper for addition of liquid using a funnel. \n",
    "The calorimeter will also include a stirrer bar inside the calorimeter to facilitate mixing of the liquids. Do not stir aggressively the liquids or you will create cavitation.\n",
    "\n",
    "\n",
    "*Note on heat capacity of mixtures*\n",
    "We will use the rule of multi-component mixtures to determine the heat capacity:\n",
    "\n",
    "$$ C_{P,mixture} = \\sum_i C_{P,i} \\chi_i $$\n",
    "\n",
    "where $C_{P,i}$ is the constant pressure heat capacity of component $i$ and $\\chi_i$ is the mole fraction\n",
    "of component $i$.  Typically, we will find the *molar* heat capacity of component $i$ ($C_{Pm,i}$), so we will also need to\n",
    "know the number of moles of component $i$ to determine its heat capacity:\n",
    "\n",
    "$$ C_{P,i} = n_i C_{Pm,i} $$"
   ]
  },
  {
   "cell_type": "code",
   "execution_count": 7,
   "metadata": {},
   "outputs": [],
   "source": [
    "# C_p,m of ethanol\n",
    "C_pm_etoh = 110.4 # J / (mol K)\n",
    "\n",
    "# C_p,m of cyclohexane\n",
    "C_pm_cyclo = 156.0 # J / (mol K)\n",
    "\n",
    "# C_p,m of water\n",
    "C_pm_h2o = 75.38 # J / (mol K)\n",
    "\n",
    "# Gas constant\n",
    "R = 8.314 # J / (mol K)\n",
    "\n",
    "\n"
   ]
  },
  {
   "cell_type": "markdown",
   "metadata": {},
   "source": [
    "Data for cyclohexane ethanol mixtures for the three different calorimeters goes here!"
   ]
  },
  {
   "cell_type": "code",
   "execution_count": 11,
   "metadata": {},
   "outputs": [],
   "source": [
    "import numpy as np\n",
    "# calorimeter 1 heat capacity in J / K\n",
    "c1_cp = 295.5566667\n",
    "\n",
    "# calorimeter 1 cyclohexane moles data: c1_cyc_v\n",
    "c1_cyc_n = np.array([0.118,\n",
    "0.239,\n",
    "0.275,\n",
    "0.352,\n",
    "0.441])\n",
    "\n",
    "# calorimeter 1 ethanol moles data: c1_etoh_v\n",
    "c1_etoh_n = np.array([0.08,\n",
    "0.32,\n",
    "0.483,\n",
    "0.306,\n",
    "0.171])\n",
    "\n",
    "# total moles\n",
    "c1_n_total = c1_cyc_n + c1_etoh_n\n",
    "\n",
    "\n",
    "# mole fraction of calorimeter 1 cyclohexane\n",
    "c1_cyc_x = c1_cyc_n / c1_n_total\n",
    "\n",
    "# calorimeter 1 cyclohexane heat capacity \n",
    "c1_cyc_cp = C_pm_cyclo * c1_cyc_n\n",
    "\n",
    "# mole fraction of calorimeter 1 ethanol\n",
    "c1_etoh_x = c1_etoh_n / c1_n_total\n",
    "\n",
    "# calorimeter 1 ethanol heat capacity \n",
    "c1_etoh_cp = C_pm_etoh * c1_etoh_n\n",
    "\n",
    "# calorimeter 1 temperature change\n",
    "c1_delta_T = np.array([-1.79,\n",
    "-2.69,\n",
    "-2.86,\n",
    "-3.13,\n",
    "-2.19])\n"
   ]
  },
  {
   "cell_type": "code",
   "execution_count": 12,
   "metadata": {},
   "outputs": [],
   "source": [
    "# calorimeter 2 heat capacity \n",
    "c2_cp = 315.96\n",
    "\n",
    "# calorimeter 2 cyclohexane moles data: c2_cyc_n\n",
    "c2_cyc_n = np.array([0.457,\n",
    "0.426,\n",
    "0.244,\n",
    "0.158,\n",
    "0.047])\n",
    "\n",
    "\n",
    "# calorimeter 2 ethanol moles data: c2_etoh_v\n",
    "c2_etoh_n = np.array([0.177,\n",
    "0.26,\n",
    "0.609,\n",
    "0.789,\n",
    "0.982])\n",
    "\n",
    "#total moles of each mixture\n",
    "c2_n_total = c2_cyc_n + c2_etoh_n\n",
    "\n",
    "# mole fraction of calorimeter 2 cyclohexane\n",
    "c2_cyc_x = c2_cyc_n / c2_n_total\n",
    "\n",
    "# calorimeter 2 cyclohexane heat capacity \n",
    "c2_cyc_cp = C_pm_cyclo * c2_cyc_n\n",
    "\n",
    "# mole fraction of calorimeter 2 ethanol\n",
    "c2_etoh_x = c2_etoh_n / c2_n_total\n",
    "\n",
    "# calorimeter 2 ethanol heat capacity \n",
    "c2_etoh_cp = C_pm_etoh * c2_etoh_n\n",
    "\n",
    "# calorimeter 2 temperature change\n",
    "c2_delta_T = np.array([-1.56,\n",
    "-2.53,\n",
    "-3.44,\n",
    "-3.34,\n",
    "-1.8])"
   ]
  },
  {
   "cell_type": "code",
   "execution_count": 13,
   "metadata": {},
   "outputs": [],
   "source": [
    "# calorimeter 3 heat capacity \n",
    "c3_cp = 303.72\n",
    "\n",
    "# calorimeter 3 cyclohexane moles data: c3_cyc_v\n",
    "c3_cyc_n = np.array([0.523,\n",
    "0.316,\n",
    "0.175,\n",
    "0.071,\n",
    "0.026])\n",
    "\n",
    "\n",
    "# calorimeter 3 ethanol moles data: c3_etoh_v\n",
    "c3_etoh_n = np.array([0.043,\n",
    "0.434,\n",
    "0.69,\n",
    "0.855,\n",
    "0.988])\n",
    "\n",
    "#total moles of each mixture\n",
    "c3_n_total = c3_cyc_n + c3_etoh_n\n",
    "\n",
    "# mole fraction of calorimeter 1 cyclohexane\n",
    "c3_cyc_x = c3_cyc_n / c3_n_total\n",
    "\n",
    "# calorimeter 3 cyclohexane heat capacity \n",
    "c3_cyc_cp = C_pm_cyclo * c3_cyc_n\n",
    "\n",
    "# mole fraction of calorimeter 3 ethanol\n",
    "c3_etoh_x = c3_etoh_n / c3_n_total\n",
    "\n",
    "# calorimeter 3 ethanol heat capacity \n",
    "c3_etoh_cp = C_pm_etoh * c2_etoh_n\n",
    "\n",
    "# calorimeter 3 temperature change\n",
    "c3_delta_T = np.array([-0.18,\n",
    "-2.07,\n",
    "-2.12,\n",
    "-2.27,\n",
    "-0.01])\n"
   ]
  },
  {
   "cell_type": "markdown",
   "metadata": {},
   "source": [
    "Recall the following relationships that will help us compute the $\\Delta H_{mix}$, $\\Delta S_{mix}$, \n",
    "and $\\Delta G_{mix}$ for each solution.\n",
    "\n",
    "$$ \\Delta S_{mix} = -nR \\left( \\chi_1 Ln\\left(\\chi_1\\right)+ \\chi_2 Ln \\left(\\chi_2\\right) \\right), $$\n",
    "\n",
    "(assuming constant Pressure),\n",
    "$$ \\Delta H_{mix} = q_{mix}, $$\n",
    "\n",
    "where\n",
    "\n",
    "$$ q_{mix} = - \\left(C_{P,mixture} + C_{P,calorimeter} \\right) \\cdot \\Delta T  $$\n",
    "\n",
    "and\n",
    "\n",
    "$$ \\Delta G_{mix} = \\Delta H_{mix} - T \\Delta S_{mix} $$\n",
    "\n"
   ]
  },
  {
   "cell_type": "code",
   "execution_count": 20,
   "metadata": {},
   "outputs": [
    {
     "name": "stdout",
     "output_type": "stream",
     "text": [
      "[ 226.11984392  -47.38398197 -235.73909258  -53.03650249 -125.45342675]\n"
     ]
    }
   ],
   "source": [
    "# room temperature\n",
    "T_room = 273.15 + 23.06\n",
    "\n",
    "# calculate the heat capacity of the mixture\n",
    "c1_cp_mix = c1_cyc_x * c1_cyc_cp + c1_etoh_x * c1_etoh_cp\n",
    "\n",
    "# calculate the total heat capacity\n",
    "c1_cp_total = c1_cp_mix + c1_cp\n",
    "\n",
    "# calorimeter 1 heat flow\n",
    "c1_q = - c1_cp_total * c1_delta_T\n",
    "\n",
    "# calorimeter 1 entropy of mixing\n",
    "c1_deltaS = -c1_n_total * R * (c1_cyc_x * np.log(c1_cyc_x) + c1_etoh_x * np.log(c1_etoh_x))\n",
    "\n",
    "# calorimeter 1 gibbs free energy of mixing\n",
    "c1_deltaG = c1_q - T_room * c1_deltaS\n",
    "\n",
    "print(c1_deltaG)\n"
   ]
  },
  {
   "cell_type": "code",
   "execution_count": 27,
   "metadata": {},
   "outputs": [
    {
     "name": "stdout",
     "output_type": "stream",
     "text": [
      "[-343.01845345 -189.73773401   32.06899548  259.98984405  285.28269325]\n",
      "[ 56.84410978  52.14766181  58.88965815  76.68500781 103.79589271]\n"
     ]
    }
   ],
   "source": [
    "# room temperature\n",
    "T_room = 273.15 + 23.06\n",
    "\n",
    "# calculate the heat capacity of the mixture\n",
    "c2_cp_mix = c2_cyc_x * c2_cyc_cp + c2_etoh_x * c2_etoh_cp\n",
    "\n",
    "# calculate the total heat capacity\n",
    "c2_cp_total = c2_cp_mix + c2_cp\n",
    "\n",
    "# calorimeter 2 heat flow\n",
    "c2_q = - c2_cp_total * c2_delta_T \n",
    "\n",
    "# calorimeter 2 entropy of mixing\n",
    "c2_deltaS = -c2_n_total * R * (c2_cyc_x * np.log(c2_cyc_x) + c2_etoh_x * np.log(c2_etoh_x))\n",
    "\n",
    "# calorimeter 2 gibbs free energy of mixing\n",
    "c2_deltaG = c2_q - T_room * c2_deltaS\n",
    "\n",
    "print(c2_deltaG)\n",
    "\n",
    "print(c2_cp_mix)"
   ]
  },
  {
   "cell_type": "code",
   "execution_count": 28,
   "metadata": {},
   "outputs": [
    {
     "name": "stdout",
     "output_type": "stream",
     "text": [
      "[-306.19511094 -551.22215317 -303.46915131  256.92034236 -293.68499105]\n",
      "[ 76.87416678  37.380096    59.15454798  81.27611663 105.73698462]\n"
     ]
    }
   ],
   "source": [
    "# room temperature\n",
    "T_room = 273.15 + 23.06\n",
    "\n",
    "# calculate the heat capacity of the mixture\n",
    "c3_cp_mix = c3_cyc_x * c3_cyc_cp + c3_etoh_x * c3_etoh_cp\n",
    "\n",
    "# calculate the total heat capacity\n",
    "c3_cp_total = c3_cp_mix + c3_cp\n",
    "\n",
    "# calorimeter 3 heat flow\n",
    "c3_q = - c3_cp_total * c3_delta_T \n",
    "\n",
    "# calorimeter 3 entropy of mixing\n",
    "c3_deltaS = -c3_n_total * R * (c3_cyc_x * np.log(c3_cyc_x) + c3_etoh_x * np.log(c3_etoh_x))\n",
    "\n",
    "# calorimeter 3 gibbs free energy of mixing\n",
    "c3_deltaG = c3_q - T_room * c3_deltaS\n",
    "\n",
    "print(c3_deltaG)\n",
    "\n",
    "print(c3_cp_mix)"
   ]
  },
  {
   "cell_type": "code",
   "execution_count": 26,
   "metadata": {},
   "outputs": [
    {
     "data": {
      "image/png": "[encoded data removed]",
      "text/plain": [
       "<Figure size 432x288 with 1 Axes>"
      ]
     },
     "metadata": {
      "needs_background": "light"
     },
     "output_type": "display_data"
    }
   ],
   "source": [
    "# Plot the three different Delta G's vs mole fraction of cyclohexane here!\n",
    "from matplotlib import pyplot as plt\n",
    "\n",
    "plt.plot(c1_cyc_x, c1_deltaG, \"ro-\", label=\"calorimeter 1\")\n",
    "plt.plot(c2_cyc_x, c2_deltaG, \"bo-\", label=\"calorimeter 2\")\n",
    "plt.plot(c3_cyc_x, c3_deltaG, \"go-\", label=\"calorimeter 3\")\n",
    "plt.legend()\n",
    "plt.show()"
   ]
  },
  {
   "cell_type": "markdown",
   "metadata": {},
   "source": [
    "Data for ethanol water mixtures for the three different calorimeters goes here!"
   ]
  },
  {
   "cell_type": "code",
   "execution_count": 30,
   "metadata": {},
   "outputs": [],
   "source": [
    "# calorimeter 1 water moles data: c1_h2o_v\n",
    "c1_h2o_n = np.array([3.1,\n",
    "2.72,\n",
    "2.43,\n",
    "2.22,\n",
    "1.99,\n",
    "1.55,\n",
    "1.41,\n",
    "1.11])\n",
    "\n",
    "\n",
    "# calorimeter 1 ethanol moles data: c1_etoh_v\n",
    "c1_etoh_n = np.array([0.122,\n",
    "0.142,\n",
    "0.21,\n",
    "0.433,\n",
    "0.474,\n",
    "0.519,\n",
    "0.691,\n",
    "0.871])\n",
    "\n",
    "#total number of moles\n",
    "c1_n_total = c1_h2o_n + c1_etoh_n\n",
    "\n",
    "# mole fraction of calorimeter 1 water\n",
    "c1_h2o_x = c1_h2o_n / c1_n_total\n",
    "\n",
    "# calorimeter 1 water heat capacity \n",
    "c1_h2o_cp = C_pm_h2o * c1_h2o_n\n",
    "\n",
    "# mole fraction of calorimeter 1 ethanol\n",
    "c1_etoh_x = c1_etoh_n / c1_n_total\n",
    "\n",
    "# calorimeter 1 ethanol heat capacity \n",
    "c1_etoh_cp = C_pm_etoh * c1_etoh_n\n",
    "\n",
    "# calorimeter 1 temperature change\n",
    "c1_delta_T = np.array([2.36,\n",
    "2.43,\n",
    "4.02,\n",
    "6.73,\n",
    "7.25,\n",
    "6.91,\n",
    "5.49,\n",
    "5.37])\n"
   ]
  },
  {
   "cell_type": "code",
   "execution_count": 32,
   "metadata": {},
   "outputs": [],
   "source": [
    "# calorimeter 2 water moles data: c1_h2o_v\n",
    "c2_h2o_n = np.array([2.974,\n",
    "2.902,\n",
    "2.673,\n",
    "1.959,\n",
    "1.798,\n",
    "1.679,\n",
    "1.121,\n",
    "0.616])\n",
    "\n",
    "# calorimeter 2 ethanol moles data: c2_etoh_v\n",
    "c2_etoh_n = np.array([0.122,\n",
    "0.142,\n",
    "0.21,\n",
    "0.433,\n",
    "0.474,\n",
    "0.519,\n",
    "0.691,\n",
    "0.871])\n",
    "\n",
    "#total number of moles\n",
    "c2_n_total = c2_h2o_n + c2_etoh_n\n",
    "\n",
    "# mole fraction of calorimeter 2 water\n",
    "c2_h2o_x = c2_h2o_n / c2_n_total\n",
    "\n",
    "# calorimeter 2 water heat capacity \n",
    "c2_h2o_cp = C_pm_h2o * c2_h2o_n\n",
    "\n",
    "# mole fraction of calorimeter 2 ethanol\n",
    "c2_etoh_x = c2_etoh_n / c2_n_total\n",
    "\n",
    "# calorimeter 2 ethanol heat capacity \n",
    "c2_etoh_cp = C_pm_etoh * c2_etoh_n\n",
    "\n",
    "# calorimeter 2 temperature change\n",
    "c2_delta_T = np.array([2.27,\n",
    "2.89,\n",
    "4.8,\n",
    "6.37,\n",
    "6.63,\n",
    "6.61,\n",
    "5.26,\n",
    "3.47])\n"
   ]
  },
  {
   "cell_type": "code",
   "execution_count": 33,
   "metadata": {},
   "outputs": [
    {
     "name": "stdout",
     "output_type": "stream",
     "text": [
      "[-2507.59073309 -2584.7958304  -3678.52726021 -5891.14822364\n",
      " -6065.28067496 -5616.44262352 -5429.18087735 -5411.92682915]\n"
     ]
    }
   ],
   "source": [
    "# room temperature\n",
    "T_room = 273.15 + 23.06\n",
    "\n",
    "# calculate the heat capacity of the mixture\n",
    "c1_cp_mix = c1_h2o_x * c1_h2o_cp + c1_etoh_x * c1_etoh_cp\n",
    "\n",
    "# calculate the total heat capacity\n",
    "c1_cp_total = c1_cp_mix + c1_cp\n",
    "\n",
    "# calorimeter 1 heat flow\n",
    "c1_q = - c1_cp_total * c1_delta_T\n",
    "\n",
    "# calorimeter 1 entropy of mixing\n",
    "c1_deltaS = -c1_n_total * R * (c1_h2o_x * np.log(c1_h2o_x) + c1_etoh_x * np.log(c1_etoh_x))\n",
    "\n",
    "# calorimeter 1 gibbs free energy of mixing\n",
    "c1_deltaG = c1_q - T_room * c1_deltaS\n",
    "\n",
    "print(c1_deltaG)"
   ]
  },
  {
   "cell_type": "code",
   "execution_count": 34,
   "metadata": {},
   "outputs": [
    {
     "name": "stdout",
     "output_type": "stream",
     "text": [
      "[-2473.3217964  -2931.22917041 -4273.9785706  -5624.11805396\n",
      " -5743.80782401 -5775.55129478 -5056.18766916 -3842.77982665]\n"
     ]
    }
   ],
   "source": [
    "# room temperature\n",
    "T_room = 273.15 + 23.06\n",
    "\n",
    "# calculate the heat capacity of the mixture\n",
    "c2_cp_mix = c2_h2o_x * c2_h2o_cp + c2_etoh_x * c2_etoh_cp\n",
    "\n",
    "# calculate the total heat capacity\n",
    "c2_cp_total = c2_cp_mix + c2_cp\n",
    "\n",
    "# calorimeter 1 heat flow\n",
    "c2_q = - c2_cp_total * c2_delta_T\n",
    "\n",
    "# calorimeter 1 entropy of mixing\n",
    "c2_deltaS = -c2_n_total * R * (c2_h2o_x * np.log(c2_h2o_x) + c2_etoh_x * np.log(c2_etoh_x))\n",
    "\n",
    "# calorimeter 1 gibbs free energy of mixing\n",
    "c2_deltaG = c2_q - T_room * c2_deltaS\n",
    "\n",
    "print(c2_deltaG)"
   ]
  },
  {
   "cell_type": "code",
   "execution_count": 38,
   "metadata": {},
   "outputs": [
    {
     "data": {
      "text/plain": [
       "[<matplotlib.lines.Line2D at 0x22baef5caf0>]"
      ]
     },
     "execution_count": 38,
     "metadata": {},
     "output_type": "execute_result"
    },
    {
     "data": {
      "image/png": "[encoded data removed]",
      "text/plain": [
       "<Figure size 432x288 with 1 Axes>"
      ]
     },
     "metadata": {
      "needs_background": "light"
     },
     "output_type": "display_data"
    }
   ],
   "source": [
    "# Plot the three different Delta G's vs mole fraction of water here!\n",
    "plt.plot(c1_h2o_x, c1_deltaG, 'ro-', label=\"calorimeter 1\")\n",
    "plt.plot(c2_h2o_x, c2_deltaG, 'bo-', label=\"calorimeter 2\")"
   ]
  },
  {
   "cell_type": "code",
   "execution_count": null,
   "metadata": {},
   "outputs": [],
   "source": [
    "# calorimeter 3 water volume data: c3_h2o_v\n",
    "c3_h2o_v = np.array([])\n",
    "\n",
    "# mole fraction of calorimeter 3 water\n",
    "c3_h2o_x = \n",
    "\n",
    "# calorimeter 3 water heat capacity \n",
    "c3_h2o_cp = \n",
    "\n",
    "# calorimeter 3 ethanol volume data: c3_etoh_v\n",
    "c3_etoh_n = np.array([])\n",
    "\n",
    "# mole fraction of calorimeter 3 ethanol\n",
    "c3_etoh_x = \n",
    "\n",
    "# calorimeter 3 ethanol heat capacity \n",
    "c3_etoh_cp = \n",
    "\n",
    "# calorimeter 3 temperature change\n",
    "c3_delta_T = np.array([])\n",
    "\n",
    "# calorimeter 3 heat flow\n",
    "c3_q = \n",
    "\n",
    "# calorimeter 3 entropy of mixing\n",
    "c3_deltaS = \n",
    "\n",
    "# calorimeter 3 gibbs free energy of mixing\n",
    "c3_deltaG = \n"
   ]
  }
 ],
 "metadata": {
  "kernelspec": {
   "display_name": "Python 3",
   "language": "python",
   "name": "python3"
  },
  "language_info": {
   "codemirror_mode": {
    "name": "ipython",
    "version": 3
   },
   "file_extension": ".py",
   "mimetype": "text/x-python",
   "name": "python",
   "nbconvert_exporter": "python",
   "pygments_lexer": "ipython3",
   "version": "3.8.8"
  }
 },
 "nbformat": 4,
 "nbformat_minor": 4
}
