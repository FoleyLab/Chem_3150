{
 "cells": [
  {
   "attachments": {},
   "cell_type": "markdown",
   "metadata": {},
   "source": [
    "### VAPOR PREASURE OF UNKNOWN LIQUID AS A FUNCTION OF TEMPERATURE \n",
    "#### CHEM 3150 PHYSICAL CHEMISTRY 1\n",
    "#### WPU-CHEMISTRY DEPARTMENT\n",
    "\n",
    "**OBJECTIVE:**\n",
    "The objective of this experiment is twofold: first, to check the response of a differential pressure meter, and second, we will measure the vapor pressure of three liquids as a function of temperature which will allow us to determine the enthalpies of vaporization/condensation of the liquids.\n",
    "\n",
    "**BACKGROUND:**\n",
    "\n",
    "<img src=\"p_vs_t.png\" width=500 height=500 />\n",
    "<figcaption align = \"center\"><b>Figure 1:</b> Vapor Pressure vs Temperature of several different liquids. </figcaption> \n",
    "\n",
    "The vapor pressure of a liquid is an indicator of the strength of the cohesive forces in a liquid, which \n",
    "are quantified by the enthalpy of vaporization $\\Delta H_{vaporization}$, which can be related to the \n",
    "heat required to boil a liquid at constant pressure.  \n",
    "The change of the vapor pressure of a liquid with temperature is related to the enthalpy of vaporizations as per Classius-Clapeyron equation,\n",
    "\n",
    "\n",
    "\\begin{equation}\n",
    "Ln\\left(\\frac{P_f}{P_i} \\right) = \\frac{\\Delta H_{vaporization}}{R}  \\left( \\frac{1}{T_f} - \\frac{1}{T_i} \\right)\n",
    "\\end{equation}\n",
    "\n",
    "See Chapter 8 of “Physical Chemistry”, T. Engel, P. Reid, 3rd edition, Pearson.\n",
    "\n",
    "**Question 1:**  Search for the $\\Delta H_{vaporization}$ of water, ethanol and hexane on the web and\n",
    "use use matplotlib and numpy to plot the vapor pressure vs the temperature.  You can use the expression\n",
    "\n",
    "\\begin{equation}\n",
    "P = k {\\rm exp}\\left( -\\frac{\\Delta H_{vaporization}}{RT} \\right),\n",
    "\\end{equation}\n",
    "but think carefully about how you will determine the constant $k$.\n",
    "\n",
    "**Question 2:** Consult the vapor pressure vs temperature for [water](https://www.engineeringtoolbox.com/water-vapor-saturation-pressure-d_599.html), [ethanol](http://ddbonline.ddbst.com/AntoineCalculation/AntoineCalculationCGI.exe?component=Ethanol), and [hexane](http://www.ddbst.com/en/EED/PCP/VAP_C89.php) on the web and \n",
    "compare the values to those predicted by your plots generated from Question 1.\n"
   ]
  },
  {
   "cell_type": "code",
   "execution_count": 4,
   "metadata": {},
   "outputs": [
    {
     "name": "stdout",
     "output_type": "stream",
     "text": [
      "[250. 260. 270. 280. 290. 300. 310. 320. 330. 340. 350. 360. 370. 380.\n",
      " 390. 400.]\n"
     ]
    }
   ],
   "source": [
    "import numpy as np\n",
    "from matplotlib import pyplot as plt\n",
    "\n",
    "DH_water = 4# replace with the enthalpy of vaporization for water from your search\n",
    "\n",
    "DH_ethanol =4 # replace with the enthalpy of vaporization for ethanol from your search\n",
    "\n",
    "DH_hexane = 4# replace with the enthalpy of vaporization for hexane from your search\n",
    "\n",
    "# numpy array of Temperature values\n",
    "T = np.linspace(250, 400, 16)\n",
    "\n",
    "# compute the constants k for each liquid\n",
    "k_water = # replace with expression for k of water\n",
    "\n",
    "k_ethanol = # replace with expression for k of ethanol\n",
    "\n",
    "k_hexane = # replace with expression for k of hexane\n",
    "\n",
    "\n",
    "# compute the Pressure vs T for the three different liquids\n",
    "P_water = # replace with expression for P of water vs T\n",
    "\n",
    "P_ethanol = # replace with expression for P of ethanol vs T\n",
    "\n",
    "P_hexane = # replace with expression for P of hexane vs T \n",
    "\n",
    "\n",
    "# add the tabulated values of vapor pressure vs temperature in SI units here\n",
    "T_water_table = np.array([])\n",
    "\n",
    "T_ethanol_table = np.array([])\n",
    "\n",
    "T_hexane_table = np.array([])\n",
    "\n",
    "\n",
    "P_water_table = np.array([])\n",
    "\n",
    "P_ethanol_table = np.array([])\n",
    "\n",
    "P_hexane_table = np.array([])\n",
    "\n",
    "plt.plot(T, P_water, label=\"predicted\")\n",
    "plt.plot(T_water_table, P_water_table, label=\"Tabulated\")\n",
    "plt.legend()\n"
   ]
  },
  {
   "cell_type": "markdown",
   "metadata": {},
   "source": [
    "<img src=\"Setup.png\" width=300 height=300 />\n",
    "<figcaption align = \"center\"><b>Figure 1:</b> Isoteniscope schematic </figcaption> "
   ]
  },
  {
   "cell_type": "markdown",
   "metadata": {},
   "source": [
    "<img src=\"detailed_setup.png\" width=750 height=750 />\n",
    "<figcaption align = \"center\"><b>Figure 2:</b> Detailed setup of isoteniscope. </figcaption> "
   ]
  },
  {
   "cell_type": "code",
   "execution_count": null,
   "metadata": {},
   "outputs": [],
   "source": []
  }
 ],
 "metadata": {
  "kernelspec": {
   "display_name": "Python 3",
   "language": "python",
   "name": "python3"
  },
  "language_info": {
   "codemirror_mode": {
    "name": "ipython",
    "version": 3
   },
   "file_extension": ".py",
   "mimetype": "text/x-python",
   "name": "python",
   "nbconvert_exporter": "python",
   "pygments_lexer": "ipython3",
   "version": "3.8.5"
  }
 },
 "nbformat": 4,
 "nbformat_minor": 4
}
